{
 "cells": [
  {
   "cell_type": "markdown",
   "id": "b3aec412",
   "metadata": {},
   "source": [
    "# *Author: Yash Ajit Paddalwar*\n",
    "# *Email ID: yash9096.p@gmail.com*"
   ]
  },
  {
   "cell_type": "markdown",
   "id": "0b5f82de",
   "metadata": {},
   "source": [
    "# Q1. What is the purpose of Python&#39;s OOP?\n",
    "#### Solution: \n",
    "In Python, object-oriented Programming (OOPs) is a programming paradigm that uses objects and classes in programming. It aims to implement real-world entities like inheritance, polymorphisms, encapsulation, etc. in the programming.\n",
    "...4 Advantages of Object-Oriented Programming\n",
    "Modularity for easier troubleshooting. ...\n",
    "Reuse of code through inheritance. ...\n",
    "Flexibility through polymorphism. ...\n",
    "Effective problem solving.\n",
    "\n",
    "\n",
    "# Q2. Where does an inheritance search look for an attribute?\n",
    "#### Solution: \n",
    "The whole point of a namespace tool like the class statement is to support name inheritance. In Python, inheritance happens when an object is qualified, and involves searching an attribute definition tree (one or more namespaces). Every time you use an expression of the form object.\n",
    "\n",
    "# Q3. How do you distinguish between a class object and an instance object?\n",
    "#### Solution: \n",
    "The basic concept of OOP is this: Class >> Object >> Instance. The class = the blue print. The Object is an actual thing that is built based on the 'blue print' (like the house). An instance is a virtual copy (but not a real copy) of the object.\n",
    "\n",
    "# Q4. What makes the first argument in a class’s method function special?\n",
    "#### Solution: \n",
    "The calling process is automatic while the receiving process is not (its explicit). This is the reason the first parameter of a function in class must be the object itself. Writing this parameter as self is merely a convention. It is not a keyword and has no special meaning in Python.\n",
    "\n",
    "# Q5. What is the purpose of the __init__ method?\n",
    "#### Solution: \n",
    "The __init__ method is the Python equivalent of the C++ constructor in an object-oriented approach. The __init__ function is called every time an object is created from a class. The __init__ method lets the class initialize the object's attributes and serves no other purpose. It is only used within classes.\n",
    "\n",
    "# Q6. What is the process for creating a class instance?\n",
    "#### Solution: \n",
    "The first method __init__() is a special method, which is called class constructor or initialization method that Python calls when you create a new instance of this class. You declare other class methods like normal functions with the exception that the first argument to each method is self.\n",
    "\n",
    "# Q7. What is the process for creating a class?\n",
    "#### Solution: \n",
    "Declaration − A variable declaration with a variable name with an object type.\n",
    "Instantiation − The 'new' keyword is used to create the object.\n",
    "Initialization − The 'new' keyword is followed by a call to a constructor. This call initializes the new object."
   ]
  }
 ],
 "metadata": {
  "kernelspec": {
   "display_name": "Python 3",
   "language": "python",
   "name": "python3"
  },
  "language_info": {
   "codemirror_mode": {
    "name": "ipython",
    "version": 3
   },
   "file_extension": ".py",
   "mimetype": "text/x-python",
   "name": "python",
   "nbconvert_exporter": "python",
   "pygments_lexer": "ipython3",
   "version": "3.8.3"
  }
 },
 "nbformat": 4,
 "nbformat_minor": 5
}
