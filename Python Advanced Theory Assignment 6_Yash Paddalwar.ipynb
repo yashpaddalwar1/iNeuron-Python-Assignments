{
 "cells": [
  {
   "cell_type": "markdown",
   "id": "69815d7d",
   "metadata": {},
   "source": [
    "# *Author: Yash Ajit Paddalwar*\n",
    "# *Email ID: yash9096.p@gmail.com*"
   ]
  },
  {
   "cell_type": "markdown",
   "id": "313e1f2b",
   "metadata": {},
   "source": [
    "# Q1. Describe three applications for exception processing.\n",
    "#### Solution:\n",
    "Exception Handling is a mechanism to handle runtime errors such as ClassNotFoundException, IOException, SQLException, RemoteException, etc.\n",
    "\n",
    "# Q2. What happens if you don&#39;t do something extra to treat an exception?\n",
    "#### Solution:\n",
    "When an exception occurred, if you don't handle it, the program terminates abruptly and the code past the line that caused the exception will not get executed.\n",
    "\n",
    "# Q3. What are your options for recovering from an exception in your script?\n",
    "#### Solution:\n",
    "\n",
    "\n",
    "# Q4. Describe two methods for triggering exceptions in your script.\n",
    "#### Solution:\n",
    "Try and Except Statement - Catching Exceptions\n",
    "In Python, we catch exceptions and handle them using try and except code blocks. The try clause contains the code that can raise an exception, while the except clause contains the code lines that handle the exception.\n",
    "\n",
    "# Q5. Identify two methods for specifying actions to be executed at termination time, regardless of whether or not an exception exists.\n",
    "#### Solution:\n",
    "The statements in the **finally** and **else** block will always be executed, whether an exception is thrown or not. This clause is used to close the resources used in a code.\n"
   ]
  }
 ],
 "metadata": {
  "kernelspec": {
   "display_name": "Python 3",
   "language": "python",
   "name": "python3"
  },
  "language_info": {
   "codemirror_mode": {
    "name": "ipython",
    "version": 3
   },
   "file_extension": ".py",
   "mimetype": "text/x-python",
   "name": "python",
   "nbconvert_exporter": "python",
   "pygments_lexer": "ipython3",
   "version": "3.8.3"
  }
 },
 "nbformat": 4,
 "nbformat_minor": 5
}
