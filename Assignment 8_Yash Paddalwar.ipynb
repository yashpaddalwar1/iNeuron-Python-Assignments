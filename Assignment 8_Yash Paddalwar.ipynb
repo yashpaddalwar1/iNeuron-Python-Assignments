{
 "cells": [
  {
   "cell_type": "markdown",
   "id": "e1e891ad",
   "metadata": {},
   "source": [
    "# *Author: Yash Ajit Paddalwar*\n",
    "# *Email ID: yash9096.p@gmail.com*"
   ]
  },
  {
   "cell_type": "markdown",
   "id": "47dc853f",
   "metadata": {},
   "source": [
    "## 1. Is the Python Standard Library included with PyInputPlus?\n",
    "Solution: Yes it is included.\n",
    "\n",
    "## 2. Why is PyInputPlus commonly imported with import pyinputplus as pypi?\n",
    "Solution: You can import the module with import pyinputplus as pyip so that you can enter a shorter name when calling the module's functions.\n",
    "\n",
    "## 3. How do you distinguish between inputInt() and inputFloat()?\n",
    "Solution: inputInt() : Accepts an integer value. This also takes additional parameters 'min', 'max', 'greaterThan' and 'lessThan' for bounds. Returns an int. inputFloat() : Accepts a floating-point numeric value.\n",
    "\n",
    "## 4. Using PyInputPlus, how do you ensure that the user enters a whole number between 0 and 99?\n",
    "Solution: "
   ]
  },
  {
   "cell_type": "code",
   "execution_count": 2,
   "id": "b97e51c3",
   "metadata": {},
   "outputs": [
    {
     "name": "stdout",
     "output_type": "stream",
     "text": [
      ">101\n",
      "Number must be less than 100.\n",
      ">514\n",
      "Number must be less than 100.\n",
      ">-1\n",
      "Number must be at minimum 0.\n",
      ">51\n"
     ]
    }
   ],
   "source": [
    "import pyinputplus as pyip\n",
    "response = pyip.inputNum('>', min=0, lessThan=100)"
   ]
  },
  {
   "cell_type": "markdown",
   "id": "79c0eee2",
   "metadata": {},
   "source": [
    "## 5. What is transferred to the keyword arguments allowRegexes and blockRegexes?\n",
    "Solution: In the allowRegexes [r'(I|V|X|L|C|D|M)+', r'zero'] is transferred and\n",
    "\n",
    "In the blockRegexes [r'[02468]$']"
   ]
  },
  {
   "cell_type": "markdown",
   "id": "f5c5081e",
   "metadata": {},
   "source": [
    "## 6. If a blank input is entered three times, what does inputStr(limit=3) do?\n",
    "Solution: It throws an RetryLimitException exception.\n",
    "\n",
    "## 7. If blank input is entered three times, what does inputStr(limit=3, default=&#39;hello&#39;) do?\n",
    "Solution: It will print the string 'hello'."
   ]
  }
 ],
 "metadata": {
  "kernelspec": {
   "display_name": "Python 3",
   "language": "python",
   "name": "python3"
  }
 },
 "nbformat": 4,
 "nbformat_minor": 5
}
