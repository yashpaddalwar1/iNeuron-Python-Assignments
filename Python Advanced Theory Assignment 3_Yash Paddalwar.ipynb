{
 "cells": [
  {
   "cell_type": "markdown",
   "id": "3898ca17",
   "metadata": {},
   "source": [
    "# *Author: Yash Ajit Paddalwar*\n",
    "# *Email ID: yash9096.p@gmail.com*"
   ]
  },
  {
   "cell_type": "markdown",
   "id": "55559fd5",
   "metadata": {},
   "source": [
    "# 1. What is the concept of an abstract superclass?\n",
    "#### Solution:\n",
    "An abstract superclass is one way to provide re-usable code. You can extend the abstract class and inherit the code. This is sometimes more convenient than using static methods or object composition to share code. The abstract class can \"fix\" parts of the code (by making it final).\n",
    "\n",
    "# 2. What happens when a class statement&#39;s top level contains a basic assignment statement?\n",
    "#### Solution:\n",
    "An assignment statement evaluates the expression list (remember that this can be a single expression or a comma-separated list, the latter yielding a tuple)\n",
    "\n",
    "# 3. Why does a class need to manually call a superclass&#39;s __init__ method?\n",
    "#### Solution:\n",
    "The main reason for always calling base class _init__ is that base class may typically create member variable and initialize them to defaults. So if you don't call base class init, none of that code would be executed and you would end up with base class that has no member variables.\n",
    "\n",
    "# 4. How can you augment, instead of completely replacing, an inherited method?\n",
    "#### Solution:\n",
    "A more sophisticated way to augment an inherited method involves forwarding. Message forwarding allows you to augment an inherited method in such a way that it can perform its inherited action and some new action.\n",
    "\n",
    "# 5. How is the local scope of a class different from that of a function?\n",
    "#### Solution:\n",
    "Local scope is the area between an { and it's closing }. Function scope is the area between the opening { of a function and its closing }, which may contain more \"local\" scopes. A label is visible in the entirety of the function within which it is defined, e.g. int c is not visible outside its enclosing block.\n"
   ]
  }
 ],
 "metadata": {
  "kernelspec": {
   "display_name": "Python 3",
   "language": "python",
   "name": "python3"
  },
  "language_info": {
   "codemirror_mode": {
    "name": "ipython",
    "version": 3
   },
   "file_extension": ".py",
   "mimetype": "text/x-python",
   "name": "python",
   "nbconvert_exporter": "python",
   "pygments_lexer": "ipython3",
   "version": "3.8.3"
  }
 },
 "nbformat": 4,
 "nbformat_minor": 5
}
