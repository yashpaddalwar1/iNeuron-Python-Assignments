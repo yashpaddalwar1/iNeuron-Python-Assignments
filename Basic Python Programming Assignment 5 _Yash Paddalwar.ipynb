{
 "cells": [
  {
   "cell_type": "markdown",
   "id": "e3e1d734",
   "metadata": {},
   "source": [
    "# *Author: Yash Ajit Paddalwar*\n",
    "# *Email ID: yash9096.p@gmail.com*"
   ]
  },
  {
   "cell_type": "markdown",
   "id": "83a5a3ff",
   "metadata": {},
   "source": [
    "## 1. Write a Python Program to Find LCM?"
   ]
  },
  {
   "cell_type": "code",
   "execution_count": 2,
   "id": "1c7ebdfb",
   "metadata": {},
   "outputs": [
    {
     "name": "stdout",
     "output_type": "stream",
     "text": [
      "Enter first number: 50\n",
      "Enter second number: 100\n",
      "The L.C.M. is 100\n"
     ]
    }
   ],
   "source": [
    "# Python Program to find the L.C.M. of two input number\n",
    "\n",
    "def compute_lcm(x, y):\n",
    "\n",
    "   # choose the greater number\n",
    "   if x > y:\n",
    "       greater = x\n",
    "   else:\n",
    "       greater = y\n",
    "\n",
    "   while(True):\n",
    "       if((greater % x == 0) and (greater % y == 0)):\n",
    "           lcm = greater\n",
    "           break\n",
    "       greater += 1\n",
    "\n",
    "   return lcm\n",
    "\n",
    "num1 = int(input(\"Enter first number: \"))\n",
    "num2 = int(input(\"Enter second number: \"))\n",
    "\n",
    "print(\"The L.C.M. is\", compute_lcm(num1, num2))"
   ]
  },
  {
   "cell_type": "markdown",
   "id": "79898346",
   "metadata": {},
   "source": [
    "# 2. Write a Python Program to Find HCF?"
   ]
  },
  {
   "cell_type": "code",
   "execution_count": 3,
   "id": "567d025e",
   "metadata": {},
   "outputs": [
    {
     "name": "stdout",
     "output_type": "stream",
     "text": [
      "Enter first number: 10\n",
      "Enter second number: 20\n",
      "The H.C.F. is 10\n"
     ]
    }
   ],
   "source": [
    "# Python program to find H.C.F of two numbers\n",
    "\n",
    "# define a function\n",
    "def compute_hcf(x, y):\n",
    "\n",
    "# choose the smaller number\n",
    "    if x > y:\n",
    "        smaller = y\n",
    "    else:\n",
    "        smaller = x\n",
    "    for i in range(1, smaller+1):\n",
    "        if((x % i == 0) and (y % i == 0)):\n",
    "            hcf = i \n",
    "    return hcf\n",
    "\n",
    "num1 = int(input(\"Enter first number: \"))\n",
    "num2 = int(input(\"Enter second number: \"))\n",
    "\n",
    "print(\"The H.C.F. is\", compute_hcf(num1, num2))\n"
   ]
  },
  {
   "cell_type": "markdown",
   "id": "edba2345",
   "metadata": {},
   "source": [
    "# 3. Write a Python Program to Convert Decimal to Binary, Octal and Hexadecimal?"
   ]
  },
  {
   "cell_type": "code",
   "execution_count": 12,
   "id": "fc80c9db",
   "metadata": {},
   "outputs": [
    {
     "name": "stdout",
     "output_type": "stream",
     "text": [
      "Enter number to convert into binary, octal and hexadecimal: 10\n",
      "The binary number of 10 is 1010\n",
      "The octal number of 10 is 12\n",
      "The hexadecimal number of 10 is A\n"
     ]
    }
   ],
   "source": [
    "def dec_to_bin(n):\n",
    "    return bin(n)[2:]\n",
    "\n",
    "def dec_to_oct(n):\n",
    "    return oct(n)[2:]\n",
    "\n",
    "def dec_to_hex(n):\n",
    "    return hex(n)[2:]\n",
    "\n",
    "a = int(input(\"Enter number to convert into binary, octal and hexadecimal: \"))\n",
    "\n",
    "print(\"The binary number of {} is {}\".format(a,dec_to_bin(a)))\n",
    "print(\"The octal number of {} is {}\".format(a,dec_to_oct(a)))\n",
    "print(\"The hexadecimal number of {} is {}\".format(a,dec_to_hex(a).upper()))"
   ]
  },
  {
   "cell_type": "markdown",
   "id": "9783743e",
   "metadata": {},
   "source": [
    "# 4. Write a Python Program To Find ASCII value of a character?"
   ]
  },
  {
   "cell_type": "code",
   "execution_count": 16,
   "id": "b5c44441",
   "metadata": {},
   "outputs": [
    {
     "name": "stdout",
     "output_type": "stream",
     "text": [
      "Enter any character to find it's ascii value: M\n",
      "The ASCII value of the character M is 77\n"
     ]
    }
   ],
   "source": [
    "def char_to_ascii(n):\n",
    "    return ord(n)\n",
    "\n",
    "a = input(\"Enter any character to find it's ascii value: \")\n",
    "print(\"The ASCII value of the character {} is {}\".format(a,char_to_ascii(a)))"
   ]
  },
  {
   "cell_type": "markdown",
   "id": "befce631",
   "metadata": {},
   "source": [
    "# 5. Write a Python Program to Make a Simple Calculator with 4 basic mathematical operations?"
   ]
  },
  {
   "cell_type": "code",
   "execution_count": 19,
   "id": "de50af89",
   "metadata": {},
   "outputs": [
    {
     "name": "stdout",
     "output_type": "stream",
     "text": [
      "Enter first number: 10\n",
      "Enter second number: 10\n",
      "Enter the operator from +,-,*,/ : +\n",
      "The addition of 10 and 10 is 20: \n"
     ]
    }
   ],
   "source": [
    "def calculator():\n",
    "    num1 = int(input(\"Enter first number: \"))\n",
    "    num2 = int(input(\"Enter second number: \"))\n",
    "    sign = input(\"Enter the operator from +,-,*,/ : \")\n",
    "    if sign == '+':\n",
    "        print(\"The addition of {} and {} is {}: \".format(num1,num2,(num1+num2)))\n",
    "    if sign == '-':\n",
    "        print(\"The subtraction of {} and {} is {}: \".format(num1,num2,(num1-num2)))\n",
    "    if sign == '*':\n",
    "        print(\"The multiplication of {} and {} is {}: \".format(num1,num2,(num1*num2)))\n",
    "    if sign == '/':\n",
    "        print(\"The division of {} and {} is {}: \".format(num1,num2,(num1/num2)))\n",
    "    return\n",
    "\n",
    "calculator()"
   ]
  }
 ],
 "metadata": {
  "kernelspec": {
   "display_name": "Python 3",
   "language": "python",
   "name": "python3"
  },
  "language_info": {
   "codemirror_mode": {
    "name": "ipython",
    "version": 3
   },
   "file_extension": ".py",
   "mimetype": "text/x-python",
   "name": "python",
   "nbconvert_exporter": "python",
   "pygments_lexer": "ipython3",
   "version": "3.8.3"
  }
 },
 "nbformat": 4,
 "nbformat_minor": 5
}
