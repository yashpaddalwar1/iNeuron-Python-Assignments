{
 "cells": [
  {
   "cell_type": "markdown",
   "id": "4e3b0ceb",
   "metadata": {},
   "source": [
    "# *Author: Yash Ajit Paddalwar*\n",
    "# *Email ID: yash9096.p@gmail.com*"
   ]
  },
  {
   "cell_type": "markdown",
   "id": "43c849a7",
   "metadata": {},
   "source": [
    "## 1. In the below elements which of them are values or an expression? eg:- values can be integer or string and expressions will be mathematical operators.\n",
    "*\n",
    "&#39;hello&#39;\n",
    "-87.8\n",
    "-\n",
    "/\n",
    "+\n",
    "6\n",
    "\n",
    "**Solution:**\n",
    "\n",
    "Values: &#39;hello&#39; , -87.8 , 6\n",
    "\n",
    "\n",
    "Expressions: + , - , / , *"
   ]
  },
  {
   "cell_type": "markdown",
   "id": "ba8f667c",
   "metadata": {},
   "source": [
    "## 2. What is the difference between string and variable?\n",
    "\n",
    "**Solution**:\n",
    "A variable is basically the name of the location in the primary memory of your computer. A variable can store everything from strings to numbers whereas A string is the values inside the quotes assigned to a string."
   ]
  },
  {
   "cell_type": "markdown",
   "id": "1d745bcc",
   "metadata": {},
   "source": [
    "## 3. Describe three different data types.\n",
    "**Solution**:\n",
    "\n",
    "Integers – This value is represented by int class. It contains positive or negative whole numbers (without fraction or decimal). In Python there is no limit to how long an integer value can be.\n",
    "\n",
    "Float – This value is represented by float class. It is a real number with floating point representation. It is specified by a decimal point. Optionally, the character e or E followed by a positive or negative integer may be appended to specify scientific notation.\n",
    "\n",
    "Complex Numbers – Complex number is represented by complex class. It is specified as (real part) + (imaginary part)j. For example – 2+3j\n",
    "\n",
    "Boolean - Tells about the validity, it contains either True value or the False Value."
   ]
  },
  {
   "cell_type": "markdown",
   "id": "5cfc62de",
   "metadata": {},
   "source": [
    "## 4. What is an expression made up of? What do all expressions do?\n",
    "**Solution**:\n",
    "An expression is a combination of values, variables, operators, and calls to functions. Expressions need to be evaluated. If you ask Python to print an expression, the interpreter evaluates the expression and displays the result."
   ]
  },
  {
   "cell_type": "markdown",
   "id": "6f692683",
   "metadata": {},
   "source": [
    "## 5. This assignment statements, like spam = 10. What is the difference between an expression and a statement?\n",
    "\n",
    "**Solution:**\n",
    "An expression evaluates to a value but A statement does something.\n",
    "\n",
    " x + 2                       # an expression\n",
    " \n",
    "Here, in the given example of expression, x + 2 will be evaluated that's it, no further operation will be done.\n",
    "\n",
    "\n",
    "x = 1                       # a statement\n",
    " \n",
    "y = x + 1     # a statement\n",
    " \n",
    "print y       # a statement\n",
    " \n",
    "Whereas in this example of statement the Integer value1 is getting assigned to the variable named x. Also the example print function is also a statement."
   ]
  },
  {
   "cell_type": "markdown",
   "id": "78bdc807",
   "metadata": {},
   "source": [
    "## 6. After running the following code, what does the variable bacon contain?            \n",
    "## bacon = 22     \n",
    "## bacon + 1\n",
    "\n",
    "**Solution:**\n",
    "\n",
    "Here the value of the variable bacon will be 22 only because the value is not updated, it is just operated."
   ]
  },
  {
   "cell_type": "markdown",
   "id": "d7975283",
   "metadata": {},
   "source": [
    "## 7. What should the values of the following two terms be?\n",
    "&#39;spam&#39; + &#39;spamspam&#39;\n",
    "&#39;spam&#39; * 3\n",
    "\n",
    "**Solution:**\n",
    "\n",
    "Here in both the cases the value of the terms will be 'spamspamspam'\n",
    "\n",
    "Because in the first case, the string is getting concatenated and in the second case the string 'spam' got multiplied 3 times."
   ]
  },
  {
   "cell_type": "markdown",
   "id": "f393ff6a",
   "metadata": {},
   "source": [
    "## 8. Why is eggs a valid variable name while 100 is invalid?\n",
    "\n",
    "**Solution:**\n",
    "There are some rules for declaring a variable in python, the rule says that any variable should never start with a numeric value hence the variable name 100 is invalid."
   ]
  },
  {
   "cell_type": "markdown",
   "id": "a7185df9",
   "metadata": {},
   "source": [
    "## 9. What three functions can be used to get the integer, floating-point number, or string version of a value?\n",
    "\n",
    "**Solution:**\n",
    "\n",
    "To get integer: int() function is used.\n",
    "\n",
    "To get Floating-point number: float() function is used.\n",
    "\n",
    "To get String: str() function is used."
   ]
  },
  {
   "cell_type": "markdown",
   "id": "ceeaebec",
   "metadata": {},
   "source": [
    "## 10. Why does this expression cause an error? How can you fix it?\n",
    "&#39;I have eaten &#39; + 99 + &#39; burritos.&#39;\n",
    "\n",
    "**Solution:**\n",
    "\n",
    "For concatenation to be done, the data types of each of the element must be same. In the above given expression, there are two strings and one integer value which is causing a heterogeneity which itself is not allowed."
   ]
  }
 ],
 "metadata": {
  "kernelspec": {
   "display_name": "Python 3",
   "language": "python",
   "name": "python3"
  },
  "language_info": {
   "codemirror_mode": {
    "name": "ipython",
    "version": 3
   },
   "file_extension": ".py",
   "mimetype": "text/x-python",
   "name": "python",
   "nbconvert_exporter": "python",
   "pygments_lexer": "ipython3",
   "version": "3.8.3"
  }
 },
 "nbformat": 4,
 "nbformat_minor": 5
}
