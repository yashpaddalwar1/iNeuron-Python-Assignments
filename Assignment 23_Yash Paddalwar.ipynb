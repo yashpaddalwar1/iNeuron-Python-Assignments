{
 "cells": [
  {
   "cell_type": "markdown",
   "id": "61e00db1",
   "metadata": {},
   "source": [
    "# *Author: Yash Ajit Paddalwar*\n",
    "# *Email ID: yash9096.p@gmail.com*"
   ]
  },
  {
   "cell_type": "markdown",
   "id": "4e0d5a46",
   "metadata": {},
   "source": [
    "## 1. What is the result of the code, and why?\n",
    "#### &gt;&gt;&gt; def func(a, b=6, c=8):\n",
    "#### print(a, b, c)\n",
    "#### &gt;&gt;&gt; func(1, 2)\n",
    "\n",
    "**Solution:** The result of this code is 1 2 8, because while declaring the function argument a is not set with any default value so whatever argument the function gets first will be given to a as value, hence the first number in the result is 1. The second argument in the function is given a default value as 6 while declaring, but the default value only gets used when no arguments are given while function calling but in the function calling the second argument is given as 2 hence the second value in the result is printed as 2. Now the third value in the function call is not present hence the default value will be used, the default value is 8 hence the third value in the result is printed as 8."
   ]
  },
  {
   "cell_type": "code",
   "execution_count": 3,
   "id": "b9d47cb0",
   "metadata": {},
   "outputs": [
    {
     "name": "stdout",
     "output_type": "stream",
     "text": [
      "1 2 8\n"
     ]
    }
   ],
   "source": [
    "def func(a,b=6,c=8):\n",
    "    print(a,b,c)\n",
    "func(1,2)"
   ]
  },
  {
   "cell_type": "markdown",
   "id": "661affd1",
   "metadata": {},
   "source": [
    "## 2. What is the result of this code, and why?\n",
    "#### &gt;&gt;&gt; def func(a, b, c=5):\n",
    "#### print(a, b, c)\n",
    "#### &gt;&gt;&gt; func(1, c=3, b=2)\n",
    "\n",
    "**Solution:** The answer is 1 2 3, because a is corresponding to 1 as it does not have default value, the second argument is c=3 hence it is overriden on the default argument and the third argument is b=2 it is overriden with the b value in the function declaration."
   ]
  },
  {
   "cell_type": "code",
   "execution_count": 4,
   "id": "9460217d",
   "metadata": {},
   "outputs": [
    {
     "name": "stdout",
     "output_type": "stream",
     "text": [
      "1 2 3\n"
     ]
    }
   ],
   "source": [
    "def func(a,b,c=5):\n",
    "    print(a,b,c)\n",
    "func(1,c=3,b=2)"
   ]
  },
  {
   "cell_type": "markdown",
   "id": "45eb9fdb",
   "metadata": {},
   "source": [
    "## 3. How about this code: what is its result, and why?\n",
    "#### &gt;&gt;&gt; def func(a, *pargs):\n",
    "#### print(a, pargs)\n",
    "#### &gt;&gt;&gt; func(1, 2, 3)\n",
    "\n",
    "**Solution:** The result will be 1 (2, 3) because the first is the normal argument which takes a single value and the second argument is the multiple-valued argument in which any number of arguments if given in the function call after the first will be counted as tupled value."
   ]
  },
  {
   "cell_type": "code",
   "execution_count": 7,
   "id": "e53e86f5",
   "metadata": {},
   "outputs": [
    {
     "name": "stdout",
     "output_type": "stream",
     "text": [
      "1 (2, 3)\n"
     ]
    }
   ],
   "source": [
    "def func(a,*pargs):\n",
    "    print(a,pargs)\n",
    "func(1,2,3)"
   ]
  },
  {
   "cell_type": "markdown",
   "id": "f2964c76",
   "metadata": {},
   "source": [
    "## 4. What does this code print, and why?\n",
    "#### &gt;&gt;&gt; def func(a, **kargs):\n",
    "#### print(a, kargs)\n",
    "#### &gt;&gt;&gt; func(a=1, c=3, b=2)\n",
    "\n",
    "**Solution:** The output will be 1 {'c': 3, 'b': 2}, because the first argument is normal one hence whatever first argumet is passed in the function call that will be treated as the first value in the function declaration. Now the second argument is a **kargs (Keyword Arguments) which will take all the remaining arguments in the form of a key-value pair (dictionary)."
   ]
  },
  {
   "cell_type": "code",
   "execution_count": 8,
   "id": "62ae4488",
   "metadata": {},
   "outputs": [
    {
     "name": "stdout",
     "output_type": "stream",
     "text": [
      "1 {'c': 3, 'b': 2}\n"
     ]
    }
   ],
   "source": [
    "def func(a,**kargs):\n",
    "    print(a,kargs)\n",
    "func(a=1, c=3, b=2)"
   ]
  },
  {
   "cell_type": "markdown",
   "id": "dd6436f3",
   "metadata": {},
   "source": [
    "## 5. What gets printed by this, and explain?\n",
    "#### &gt;&gt;&gt; def func(a, b, c=8, d=5): print(a, b, c, d)\n",
    "#### &gt;&gt;&gt; func(1, *(5, 6))\n",
    "\n",
    "**Solution:** The output will be 1 5 6 5, there are totally four arguments a and b are not set as default hence the first two values that is 1 and 5 are printed first and then the third value is also given which is 6 there 1 5 6 and then since in the function call no fourth arg is given that is why it took default arg i.e. d=5 and printed 1 5 6 5."
   ]
  },
  {
   "cell_type": "code",
   "execution_count": 9,
   "id": "25d8b1a1",
   "metadata": {},
   "outputs": [
    {
     "name": "stdout",
     "output_type": "stream",
     "text": [
      "1 5 6 5\n"
     ]
    }
   ],
   "source": [
    "def func(a,b,c=8,d=5):\n",
    "    print(a,b,c,d)\n",
    "func(1, *(5, 6))"
   ]
  },
  {
   "cell_type": "markdown",
   "id": "2c2f2e98",
   "metadata": {},
   "source": [
    "## 6. what is the result of this, and explain?\n",
    "#### &gt;&gt;&gt; def func(a, b, c):\n",
    "#### a = 2; b[0] = &#39;x&#39;; c[&#39;a&#39;] = &#39;y&#39;\n",
    "#### &gt;&gt;&gt; l=1; m=[1]; n={&#39;a&#39;:0}\n",
    "#### &gt;&gt;&gt; func(l, m, n)\n",
    "#### &gt;&gt;&gt; l, m, n\n",
    "\n",
    "**Solution:** The result will be (1, ['x'], {'a': 'y'}), because the first argument value is a number therefore it will remain the same hence 1 will be printed, and now the second and third value is a list and dictionary which is mutale hence it will go into the function and mutate it's value and the new value will be saved in the variable i.e. ['x'], {'a': 'y'}."
   ]
  },
  {
   "cell_type": "code",
   "execution_count": 15,
   "id": "f3b47e58",
   "metadata": {},
   "outputs": [
    {
     "data": {
      "text/plain": [
       "(1, ['x'], {'a': 'y'})"
      ]
     },
     "execution_count": 15,
     "metadata": {},
     "output_type": "execute_result"
    }
   ],
   "source": [
    "def func(a, b, c):\n",
    "    a = 2\n",
    "    b[0] = 'x'\n",
    "    c['a'] = 'y'\n",
    "l=1; m=[1]; n={'a':0}\n",
    "func(l, m, n)\n",
    "l, m, n"
   ]
  }
 ],
 "metadata": {
  "kernelspec": {
   "display_name": "Python 3",
   "language": "python",
   "name": "python3"
  },
  "language_info": {
   "codemirror_mode": {
    "name": "ipython",
    "version": 3
   },
   "file_extension": ".py",
   "mimetype": "text/x-python",
   "name": "python",
   "nbconvert_exporter": "python",
   "pygments_lexer": "ipython3",
   "version": "3.8.3"
  }
 },
 "nbformat": 4,
 "nbformat_minor": 5
}
