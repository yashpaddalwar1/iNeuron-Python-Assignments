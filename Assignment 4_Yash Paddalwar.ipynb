{
 "cells": [
  {
   "cell_type": "markdown",
   "id": "e3728d65",
   "metadata": {},
   "source": [
    "# *Author: Yash Ajit Paddalwar*\n",
    "# *Email ID: yash9096.p@gmail.com*"
   ]
  },
  {
   "cell_type": "markdown",
   "id": "c1b3d578",
   "metadata": {},
   "source": [
    "## 1. What exactly is []?\n",
    "\n",
    "Solution: [] is an empty list. [foo.bar] is creating a new list ( [] ) with foo.bar as the first item in the list, which can then be referenced by its index: var = [foo.bar] var[0] == foo.bar # returns True. So your guess that your assignment of foo."
   ]
  },
  {
   "cell_type": "markdown",
   "id": "94dd3ce0",
   "metadata": {},
   "source": [
    "## 2. In a list of values stored in a variable called spam, how would you assign the value &#39;hello&#39; as the third value? (Assume [2, 4, 6, 8, 10] are in spam.)"
   ]
  },
  {
   "cell_type": "code",
   "execution_count": 7,
   "id": "cbb96c20",
   "metadata": {},
   "outputs": [
    {
     "data": {
      "text/plain": [
       "[2, 4, 'hello', 6, 8, 10]"
      ]
     },
     "execution_count": 7,
     "metadata": {},
     "output_type": "execute_result"
    }
   ],
   "source": [
    "# You can the string 'hello' in the third position using the inbuilt function insert() with two parameters the first is the position and the second the element to insert that is 'hello'\n",
    "# I have shown the code below\n",
    "spam = [2,4,6,8,10]\n",
    "spam.insert(2,'hello')\n",
    "spam"
   ]
  },
  {
   "cell_type": "markdown",
   "id": "56d03fcb",
   "metadata": {},
   "source": [
    "## Let&#39;s pretend the spam includes the list [&#39;a&#39;, &#39;b&#39;, &#39;c&#39;, &#39;d&#39;] for the next three queries.\n",
    "\n",
    "## 3. What is the value of spam[int(int(&#39;3&#39; * 2) / 11)]?\n",
    "Solution: The value of the given expression will be spam[3] which corresponds the value 'd'\n",
    "\n",
    "## 4. What is the value of spam[-1]?\n",
    "Solution: The value of spam[-1] is 'd'.\n",
    "\n",
    "## 5. What is the value of spam[:2]?\n",
    "Solution: The value of spam[:2] is ['a', 'b']."
   ]
  },
  {
   "cell_type": "markdown",
   "id": "0d744502",
   "metadata": {},
   "source": [
    "## Let&#39;s pretend bacon has the list [3.14, &#39;cat,&#39; 11, &#39;cat,&#39; True] for the next three questions.\n",
    "\n",
    "## 6. What is the value of bacon.index(&#39;cat&#39;)?\n",
    "Solution: The value of bacon.index('cat') is 1.\n",
    "\n",
    "## 7. How does bacon.append(99) change the look of the list value in bacon?\n",
    "Solution: The given bacon.append(99) function will append the integer 99 at the end of the bacon list and it will look like [3.14, 'cat', 11, 'cat', True, 99].\n",
    "## 8. How does bacon.remove(&#39;cat&#39;) change the look of the list in bacon?\n",
    "Solution: It will remove the first appearance of the string 'cat' and it will look like [3.14, 11, 'cat', True]."
   ]
  },
  {
   "cell_type": "markdown",
   "id": "eddc9a68",
   "metadata": {},
   "source": [
    "## 9. What are the list concatenation and list replication operators?\n",
    "Solution: The operator for list concatenation is +, while the operator for replication is *."
   ]
  },
  {
   "cell_type": "markdown",
   "id": "712eb948",
   "metadata": {},
   "source": [
    "## 10. What is difference between the list methods append() and insert()?\n",
    "Solution: Difference between append() and insert() function is that append() function will include the new element at the last of the list and the insert() element will include the element anywhere in the list at the specified index."
   ]
  },
  {
   "cell_type": "markdown",
   "id": "def933d6",
   "metadata": {},
   "source": [
    "## 11. What are the two methods for removing items from a list?\n",
    "Solution: The methods are remove(), pop() and clear(). It helps to remove the very first given element matching from the list. The pop() method removes an element from the list based on the index given. The clear() method will remove all the elements present in the list."
   ]
  },
  {
   "cell_type": "markdown",
   "id": "948ae012",
   "metadata": {},
   "source": [
    "## 12. Describe how list values and string values are identical.\n",
    "Solution: The values that make up a list are called its elements. Lists are similar to strings, which are ordered collections of characters, except that the elements of a list can have any type and for any one list, the items can be of different types. The elements of a list don't have to be the same type."
   ]
  },
  {
   "cell_type": "markdown",
   "id": "07000a94",
   "metadata": {},
   "source": [
    "## 13. What&#39;s the difference between tuples and lists?\n",
    "Solution: The key difference between the tuples and lists is that while the tuples are immutable objects the lists are mutable. This means that tuples cannot be changed while the lists can be modified. Tuples are more memory efficient than the lists."
   ]
  },
  {
   "cell_type": "markdown",
   "id": "64c79035",
   "metadata": {},
   "source": [
    "## 14. How do you type a tuple value that only contains the integer 42?\n",
    "Solution: We can create a tuple with value 42 by adding a comma at the end of the number 42 in this way (42,)."
   ]
  },
  {
   "cell_type": "markdown",
   "id": "baeff5ca",
   "metadata": {},
   "source": [
    "## 15. How do you get a list value&#39;s tuple form? How do you get a tuple value&#39;s list form?\n",
    "Solution: We can create list value's in tuple form directly and We can get tuple's value in list form using zip() function."
   ]
  },
  {
   "cell_type": "markdown",
   "id": "29ed74e3",
   "metadata": {},
   "source": [
    "## 16. Variables that &quot;contain&quot; list values are not necessarily lists themselves. Instead, what do they contain?\n",
    "Solution: Variables will contain references to list values rather than list values themselves."
   ]
  },
  {
   "cell_type": "markdown",
   "id": "6f97ea36",
   "metadata": {},
   "source": [
    "## 17. How do you distinguish between copy.copy() and copy.deepcopy()?\n",
    "Solution: A shallow copy constructs a new compound object and then (to the extent possible) inserts references into it to the objects found in the original. A deep copy constructs a new compound object and then, recursively, inserts copies into it of the objects found in the original."
   ]
  }
 ],
 "metadata": {
  "kernelspec": {
   "display_name": "Python 3",
   "language": "python",
   "name": "python3"
  },
  "language_info": {
   "codemirror_mode": {
    "name": "ipython",
    "version": 3
   },
   "file_extension": ".py",
   "mimetype": "text/x-python",
   "name": "python",
   "nbconvert_exporter": "python",
   "pygments_lexer": "ipython3",
   "version": "3.8.3"
  }
 },
 "nbformat": 4,
 "nbformat_minor": 5
}
