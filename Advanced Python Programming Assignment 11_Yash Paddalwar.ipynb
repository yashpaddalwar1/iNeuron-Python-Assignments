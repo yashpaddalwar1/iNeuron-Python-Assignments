{
 "cells": [
  {
   "cell_type": "markdown",
   "id": "82baa80c",
   "metadata": {},
   "source": [
    "# *Author: Yash Ajit Paddalwar*\n",
    "# *Email ID: yash9096.p@gmail.com*"
   ]
  },
  {
   "cell_type": "markdown",
   "id": "772819a9",
   "metadata": {},
   "source": [
    "# 1\n",
    "1. Create a function that takes a list and returns a new list containing only\n",
    "prime numbers.\n",
    "Examples\n",
    "filter_primes([7, 9, 3, 9, 10, 11, 27]) ➞ [7, 3, 11]\n",
    "filter_primes([10007, 1009, 1007, 27, 147, 77, 1001, 70]) ➞ [10007, 1009]\n",
    "filter_primes([1009, 10, 10, 10, 3, 33, 9, 4, 1, 61, 63, 69, 1087, 1091, 1093,\n",
    "1097]) ➞ [1009, 3, 61, 1087, 1091, 1093, 1097]"
   ]
  },
  {
   "cell_type": "code",
   "execution_count": 15,
   "id": "9c29deb1",
   "metadata": {},
   "outputs": [
    {
     "data": {
      "text/plain": [
       "[1009, 3, 1, 61, 1087, 1091, 1093, 1097]"
      ]
     },
     "execution_count": 15,
     "metadata": {},
     "output_type": "execute_result"
    }
   ],
   "source": [
    "def filter_primes(lst):\n",
    "    new = []\n",
    "    for i in lst:\n",
    "        for j in range(2,i):\n",
    "            if i % j == 0:\n",
    "                new.append(i)\n",
    "                break\n",
    "    return [i for i in lst if i not in new]\n",
    "filter_primes([1009, 10, 10, 10, 3, 33, 9, 4, 1, 61, 63, 69, 1087, 1091, 1093, 1097])"
   ]
  },
  {
   "cell_type": "markdown",
   "id": "ec309d52",
   "metadata": {},
   "source": [
    "# 2\n",
    "2. Once a water balloon pops, is soaks the area around it. The ground gets\n",
    "drier the further away you travel from the balloon.\n",
    "The effect of a water balloon popping can be modeled using a list. Create a\n",
    "function that takes a list which takes the pre-pop state and returns the state\n",
    "after the balloon is popped. The pre-pop state will contain at most a single\n",
    "balloon, whose size is represented by the only non-zero element.\n",
    "Examples\n",
    "pop([0, 0, 0, 0, 4, 0, 0, 0, 0]) ➞ [0, 1, 2, 3, 4, 3, 2, 1, 0]\n",
    "pop([0, 0, 0, 3, 0, 0, 0]) ➞ [0, 1, 2, 3, 2, 1, 0]\n",
    "pop([0, 0, 2, 0, 0]) ➞ [0, 1, 2, 1, 0]\n",
    "pop([0]) ➞ [0]"
   ]
  },
  {
   "cell_type": "code",
   "execution_count": 2,
   "id": "b237033a",
   "metadata": {},
   "outputs": [
    {
     "data": {
      "text/plain": [
       "[0, 1, 2, 3, 4, 3, 2, 1, 0]"
      ]
     },
     "execution_count": 2,
     "metadata": {},
     "output_type": "execute_result"
    }
   ],
   "source": [
    "def pop(lst):\n",
    "    if lst == [0]:\n",
    "        return [0]\n",
    "    else:\n",
    "        low = 0\n",
    "        high = len(lst) - 1\n",
    "        middle = round((low + high) / 2)\n",
    "        forward, backward = (middle + 1), (middle - 1)\n",
    "        count = 1\n",
    "        for i in range(middle):\n",
    "            lst[forward] = lst[middle] - count\n",
    "            lst[backward] = lst[middle] - count\n",
    "            forward += 1\n",
    "            backward -= 1\n",
    "            count += 1\n",
    "        return lst\n",
    "            \n",
    "pop([0, 0, 0, 0, 4, 0, 0, 0, 0])"
   ]
  },
  {
   "cell_type": "markdown",
   "id": "36a93e90",
   "metadata": {},
   "source": [
    "# 3\n",
    "3. &quot;Loves me, loves me not&quot; is a traditional game in which a person plucks off\n",
    "all the petals of a flower one by one, saying the phrase &quot;Loves me&quot; and\n",
    "&quot;Loves me not&quot; when determining whether the one that they love, loves them\n",
    "back.\n",
    "Given a number of petals, return a string which repeats the phrases &quot;Loves\n",
    "me&quot; and &quot;Loves me not&quot; for every alternating petal, and return the last phrase\n",
    "in all caps. Remember to put a comma and space between phrases.\n",
    "Examples\n",
    "loves_me(3) ➞ &quot;Loves me, Loves me not, LOVES ME&quot;\n",
    "loves_me(6) ➞ &quot;Loves me, Loves me not, Loves me, Loves me not, Loves\n",
    "me, LOVES ME NOT&quot;\n",
    "\n",
    "loves_me(1) ➞ &quot;LOVES ME&quot;"
   ]
  },
  {
   "cell_type": "code",
   "execution_count": 10,
   "id": "3c48c9e9",
   "metadata": {},
   "outputs": [
    {
     "data": {
      "text/plain": [
       "'LOVES ME'"
      ]
     },
     "execution_count": 10,
     "metadata": {},
     "output_type": "execute_result"
    }
   ],
   "source": [
    "def loves_me(petals):\n",
    "    lst = []\n",
    "    for i in range(petals):\n",
    "        if i % 2 == 0:\n",
    "            if i == (petals - 1):\n",
    "                lst.append(\"LOVES ME\")\n",
    "                break\n",
    "            lst.append(\"Loves Me\")\n",
    "        else:\n",
    "            if i == (petals - 1):\n",
    "                lst.append(\"LOVES ME NOT\")\n",
    "                break\n",
    "            lst.append(\"Loves me not\")\n",
    "    return ', '.join(lst)\n",
    "        \n",
    "loves_me(1)"
   ]
  },
  {
   "cell_type": "markdown",
   "id": "c0945ce1",
   "metadata": {},
   "source": [
    "# 4\n",
    "4. Write a function that sorts each string in a list by the letter in alphabetic\n",
    "ascending order (a-z).\n",
    "Examples\n",
    "sort_by_letter([&quot;932c&quot;, &quot;832u32&quot;, &quot;2344b&quot;])\n",
    "➞ [&quot;2344b&quot;, &quot;932c&quot;, &quot;832u32&quot;]\n",
    "sort_by_letter([&quot;99a&quot;, &quot;78b&quot;, &quot;c2345&quot;, &quot;11d&quot;])\n",
    "➞ [&quot;99a&quot;, &quot;78b&quot;, &quot;c2345&quot;, &quot;11d&quot;]\n",
    "sort_by_letter([&quot;572z&quot;, &quot;5y5&quot;, &quot;304q2&quot;])\n",
    "➞ [&quot;304q2&quot;, &quot;5y5&quot;, &quot;572z&quot;]\n",
    "sort_by_letter([])\n",
    "➞ []"
   ]
  },
  {
   "cell_type": "code",
   "execution_count": 34,
   "id": "53a7361d",
   "metadata": {},
   "outputs": [
    {
     "data": {
      "text/plain": [
       "['99a', '78b', 'c2345', '11d']"
      ]
     },
     "execution_count": 34,
     "metadata": {},
     "output_type": "execute_result"
    }
   ],
   "source": [
    "def sort_by_letter(lst):\n",
    "    lst_sorted_letter = []\n",
    "    for i in lst:\n",
    "        for j in i:\n",
    "            if ord(j) > 96 and ord(j) < 123:\n",
    "                lst_sorted_letter.append(j)\n",
    "    lst_sorted_letter = sorted(lst_sorted_letter)\n",
    "    count = 0\n",
    "    new = []\n",
    "    for i in lst_sorted_letter:\n",
    "        for j in lst:\n",
    "            if i in j:\n",
    "                new.append(j)\n",
    "                count += 1\n",
    "                \n",
    "    return new\n",
    "\n",
    "sort_by_letter([\"99a\", \"78b\", \"c2345\", \"11d\"])"
   ]
  },
  {
   "cell_type": "markdown",
   "id": "fdc1c1cc",
   "metadata": {},
   "source": [
    "# 5\n",
    "5. There are three cups on a table, at positions A, B, and C. At the start, there\n",
    "is a ball hidden under the cup at position B.\n",
    "\n",
    "However, I perform several swaps on the cups, which is notated as two\n",
    "letters. For example, if I swap the cups at positions A and B, I could notate\n",
    "this as AB or BA.\n",
    "Create a function that returns the letter position that the ball is at, once I finish\n",
    "swapping the cups. The swaps will be given to you as a list.\n",
    "\n",
    "Example\n",
    "cup_swapping([&quot;AB&quot;, &quot;CA&quot;, &quot;AB&quot;]) ➞ &quot;C&quot;\n",
    "#. Ball begins at position B.\n",
    "#. Cups A and B swap, so the ball is at position A.\n",
    "#. Cups C and A swap, so the ball is at position C.\n",
    "#. Cups A and B swap, but the ball is at position C, so it doesn&#39;t move."
   ]
  },
  {
   "cell_type": "code",
   "execution_count": 38,
   "id": "f2cc7756",
   "metadata": {},
   "outputs": [
    {
     "data": {
      "text/plain": [
       "'C'"
      ]
     },
     "execution_count": 38,
     "metadata": {},
     "output_type": "execute_result"
    }
   ],
   "source": [
    "def cup_swapping(lst):\n",
    "    initial_ball_at_a = 0\n",
    "    initial_ball_at_b = 1\n",
    "    initial_ball_at_c = 0\n",
    "    for i in lst:\n",
    "        if (i[0] == 'A' and i[1] == 'B') or (i[0] == 'B' and i[1] == 'A'):\n",
    "            if initial_ball_at_b == 1:\n",
    "                initial_ball_at_a = 1\n",
    "                initial_ball_at_b = 0\n",
    "            elif initial_ball_at_a == 1:\n",
    "                initial_ball_at_a = 0\n",
    "                initial_ball_at_b = 1\n",
    "        elif (i[0] == 'B' and i[1] == 'C') or (i[0] == 'C' and i[1] == 'B'):\n",
    "            if initial_ball_at_c == 1:\n",
    "                initial_ball_at_b = 1\n",
    "                initial_ball_at_c = 0\n",
    "            elif initial_ball_at_b == 1:\n",
    "                initial_ball_at_b = 0\n",
    "                initial_ball_at_c = 1\n",
    "        elif (i[0] == 'A' and i[1] == 'C') or (i[0] == 'C' and i[1] == 'A'):\n",
    "            if initial_ball_at_c == 1:\n",
    "                initial_ball_at_a = 1\n",
    "                initial_ball_at_c = 0\n",
    "            elif initial_ball_at_a == 1:\n",
    "                initial_ball_at_a = 0\n",
    "                initial_ball_at_c = 1\n",
    "    if initial_ball_at_a == 1:\n",
    "        return \"A\"\n",
    "    elif initial_ball_at_b == 1:\n",
    "        return \"B\"\n",
    "    elif initial_ball_at_c == 1:\n",
    "        return \"C\"\n",
    "    \n",
    "cup_swapping([\"AB\", \"CA\", \"AB\"]) "
   ]
  }
 ],
 "metadata": {
  "kernelspec": {
   "display_name": "Python 3",
   "language": "python",
   "name": "python3"
  },
  "language_info": {
   "codemirror_mode": {
    "name": "ipython",
    "version": 3
   },
   "file_extension": ".py",
   "mimetype": "text/x-python",
   "name": "python",
   "nbconvert_exporter": "python",
   "pygments_lexer": "ipython3",
   "version": "3.8.3"
  }
 },
 "nbformat": 4,
 "nbformat_minor": 5
}
