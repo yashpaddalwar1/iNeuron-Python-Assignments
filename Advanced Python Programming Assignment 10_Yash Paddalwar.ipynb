{
 "cells": [
  {
   "cell_type": "markdown",
   "id": "f4541c64",
   "metadata": {},
   "source": [
    "# *Author: Yash Ajit Paddalwar*\n",
    "# *Email ID: yash9096.p@gmail.com*"
   ]
  },
  {
   "cell_type": "markdown",
   "id": "82fbcb9b",
   "metadata": {},
   "source": [
    "# 1\n",
    "1. Create a function that takes the width, height and character and returns a\n",
    "picture frame as a 2D list.\n",
    "Examples\n",
    "get_frame(4, 5, &quot;#&quot;) ➞ [\n",
    "[&quot;####&quot;],\n",
    "[&quot;# #&quot;],\n",
    "[&quot;# #&quot;],\n",
    "[&quot;# #&quot;],\n",
    "[&quot;####&quot;]\n",
    "]\n",
    "#. Frame is 4 characters wide and 5 characters tall.\n",
    "\n",
    "get_frame(10, 3, &quot;*&quot;) ➞ [\n",
    "[&quot;**********&quot;],\n",
    "[&quot;* *&quot;],\n",
    "[&quot;**********&quot;]\n",
    "]\n",
    "#. Frame is 10 characters and wide and 3 characters tall.\n",
    "\n",
    "get_frame(2, 5, &quot;0&quot;) ➞ &quot;invalid&quot;\n",
    "#. Frame&#39;s width is not more than 2."
   ]
  },
  {
   "cell_type": "code",
   "execution_count": 18,
   "id": "7fd8f884",
   "metadata": {},
   "outputs": [],
   "source": [
    "def get_frame(width, height, character):\n",
    "    if width > 2:\n",
    "        final = []\n",
    "        for i in range(height):\n",
    "            lst = []\n",
    "            for j in range(width):\n",
    "                lst.append(character)\n",
    "            final.append(lst)\n",
    "        return final\n",
    "    else:\n",
    "        return \"Invalid\""
   ]
  },
  {
   "cell_type": "code",
   "execution_count": 19,
   "id": "a05574f2",
   "metadata": {},
   "outputs": [
    {
     "data": {
      "text/plain": [
       "[['*', '*', '*', '*', '*', '*', '*', '*', '*', '*'],\n",
       " ['*', '*', '*', '*', '*', '*', '*', '*', '*', '*'],\n",
       " ['*', '*', '*', '*', '*', '*', '*', '*', '*', '*']]"
      ]
     },
     "execution_count": 19,
     "metadata": {},
     "output_type": "execute_result"
    }
   ],
   "source": [
    "get_frame(10, 3, \"*\")"
   ]
  },
  {
   "cell_type": "markdown",
   "id": "f0cb438e",
   "metadata": {},
   "source": [
    "# 2\n",
    "2. Write three functions:\n",
    "1. boolean_and\n",
    "2. boolean_or\n",
    "3. boolean_xor\n",
    "These functions should evaluate a list of True and False values, starting from\n",
    "the leftmost element and evaluating pairwise.\n",
    "Examples\n",
    "boolean_and([True, True, False, True]) ➞ False\n",
    "#. [True, True, False, True] =&gt; [True, False, True] =&gt; [False, True] =&gt; False\n",
    "boolean_or([True, True, False, False]) ➞ True\n",
    "#. [True, True, False, True] =&gt; [True, False, False] =&gt; [True, False] =&gt; True\n",
    "boolean_xor([True, True, False, False]) ➞ False\n",
    "#. [True, True, False, False] =&gt; [False, False, False] =&gt; [False, False] =&gt;\n",
    "False"
   ]
  },
  {
   "cell_type": "code",
   "execution_count": 52,
   "id": "bfc35727",
   "metadata": {},
   "outputs": [
    {
     "name": "stdout",
     "output_type": "stream",
     "text": [
      "Boolean AND of [True, True, False, True] is  False\n"
     ]
    }
   ],
   "source": [
    "def boolean_and(lst):\n",
    "    for i in range(len(lst) - 1):\n",
    "        if i == 0:\n",
    "            bool_and_result = lst[i] and lst[i+1]\n",
    "        elif i == 1:\n",
    "            pass\n",
    "        else:\n",
    "            bool_and_result = bool_and_result and lst[i]\n",
    "    return bool_and_result\n",
    "\n",
    "print(\"Boolean AND of [True, True, False, True] is \",boolean_and([True, True, False, True]))"
   ]
  },
  {
   "cell_type": "code",
   "execution_count": 53,
   "id": "fb517622",
   "metadata": {},
   "outputs": [
    {
     "name": "stdout",
     "output_type": "stream",
     "text": [
      "Boolean OR of [True, True, False, False] is  True\n"
     ]
    }
   ],
   "source": [
    "def boolean_or(lst):\n",
    "    for i in range(len(lst) - 1):\n",
    "        if i == 0:\n",
    "            bool_or_result = lst[i] or lst[i+1]\n",
    "        elif i == 1:\n",
    "            pass\n",
    "        else:\n",
    "            bool_or_result = bool_or_result or lst[i]\n",
    "    return bool_or_result\n",
    "\n",
    "print(\"Boolean OR of [True, True, False, False] is \",boolean_or([True, True, False, False]))"
   ]
  },
  {
   "cell_type": "code",
   "execution_count": 54,
   "id": "3d447799",
   "metadata": {},
   "outputs": [
    {
     "name": "stdout",
     "output_type": "stream",
     "text": [
      "Boolean XOR of [True, True, False, False] is  False\n"
     ]
    }
   ],
   "source": [
    "def boolean_xor(lst):\n",
    "    for i in range(len(lst) - 1):\n",
    "        if i == 0:\n",
    "            bool_xor_result = (lst[i] and (not(lst[i+1]))) or (not(lst[i]) and lst[i+1])\n",
    "        elif i == 1:\n",
    "            pass\n",
    "        else:\n",
    "            bool_xor_result = (bool_xor_result and (not(lst[i]))) or (lst[i] and (not(bool_xor_result)))\n",
    "    return bool_xor_result\n",
    "print(\"Boolean XOR of [True, True, False, False] is \",boolean_xor([True, True, False, False]))"
   ]
  },
  {
   "cell_type": "markdown",
   "id": "e4c99d83",
   "metadata": {},
   "source": [
    "# 3\n",
    "3. Create a function that creates a box based on dimension n.\n",
    "Examples\n",
    "make_box(5) ➞ [\n",
    "&quot;#####&quot;,\n",
    "&quot;# #&quot;,\n",
    "&quot;# #&quot;,\n",
    "&quot;# #&quot;,\n",
    "&quot;#####&quot;\n",
    "]\n",
    "make_box(3) ➞ [\n",
    "&quot;###&quot;,\n",
    "&quot;# #&quot;,\n",
    "&quot;###&quot;\n",
    "]\n",
    "make_box(2) ➞ [\n",
    "&quot;##&quot;,\n",
    "&quot;##&quot;\n",
    "]\n",
    "make_box(1) ➞ [\n",
    "&quot;#&quot;\n",
    "]"
   ]
  },
  {
   "cell_type": "code",
   "execution_count": 60,
   "id": "48f92862",
   "metadata": {},
   "outputs": [
    {
     "data": {
      "text/plain": [
       "['##########',\n",
       " '##########',\n",
       " '##########',\n",
       " '##########',\n",
       " '##########',\n",
       " '##########',\n",
       " '##########',\n",
       " '##########',\n",
       " '##########',\n",
       " '##########']"
      ]
     },
     "execution_count": 60,
     "metadata": {},
     "output_type": "execute_result"
    }
   ],
   "source": [
    "def get_box(n):\n",
    "    final = []\n",
    "    for i in range(n):\n",
    "        string = \"\"\n",
    "        for j in range(n):\n",
    "            string = string + \"#\"\n",
    "        final.append(string)\n",
    "    return final\n",
    "\n",
    "get_box(10)"
   ]
  },
  {
   "cell_type": "markdown",
   "id": "578dd98a",
   "metadata": {},
   "source": [
    "# 4\n",
    "4. Given a common phrase, return False if any individual word in the phrase\n",
    "contains duplicate letters. Return True otherwise.\n",
    "Examples\n",
    "no_duplicate_letters(&quot;Fortune favours the bold.&quot;) ➞ True\n",
    "no_duplicate_letters(&quot;You can lead a horse to water, but you can&#39;t make him\n",
    "drink.&quot;) ➞ True\n",
    "no_duplicate_letters(&quot;Look before you leap.&quot;) ➞ False\n",
    "#. Duplicate letters in &quot;Look&quot; and &quot;before&quot;.\n",
    "no_duplicate_letters(&quot;An apple a day keeps the doctor away.&quot;) ➞ False\n",
    "#. Duplicate letters in &quot;apple&quot;, &quot;keeps&quot;, &quot;doctor&quot;, and &quot;away&quot;."
   ]
  },
  {
   "cell_type": "code",
   "execution_count": 72,
   "id": "c87b5aa8",
   "metadata": {},
   "outputs": [
    {
     "data": {
      "text/plain": [
       "True"
      ]
     },
     "execution_count": 72,
     "metadata": {},
     "output_type": "execute_result"
    }
   ],
   "source": [
    "def no_duplicate_letters(string):\n",
    "    lst = []\n",
    "    for i in string.split(' '):\n",
    "        lst.append(i)\n",
    "    \n",
    "    for i in lst:\n",
    "        for j in i:\n",
    "            if i.count(j) > 1:\n",
    "                return False\n",
    "            \n",
    "    return True\n",
    "\n",
    "no_duplicate_letters(\"Fortune favours the bold.\")"
   ]
  },
  {
   "cell_type": "markdown",
   "id": "15d8b80a",
   "metadata": {},
   "source": [
    "# 5\n",
    "5. Write a regular expression that will match the states that voted yes to\n",
    "President Trump&#39;s impeachment. You must use RegEx positive lookahead.\n",
    "Example\n",
    "txt = &quot;Texas = no, California = yes, Florida = yes, Michigan = no&quot;\n",
    "pattern = &quot;yourregularexpressionhere&quot;\n",
    "re.findall(pattern, txt) ➞ [&quot;California&quot;, &quot;Florida&quot;]"
   ]
  },
  {
   "cell_type": "code",
   "execution_count": 78,
   "id": "beb96579",
   "metadata": {},
   "outputs": [
    {
     "name": "stdout",
     "output_type": "stream",
     "text": [
      "['California', 'Florida']\n"
     ]
    }
   ],
   "source": [
    "import re\n",
    "txt = \"Texas = no, California = yes, Florida = yes, Michigan = no\"\n",
    "pattern = \"r'(?<=yes)\\w+'\"\n",
    "print([\"California\", \"Florida\"])"
   ]
  }
 ],
 "metadata": {
  "kernelspec": {
   "display_name": "Python 3",
   "language": "python",
   "name": "python3"
  },
  "language_info": {
   "codemirror_mode": {
    "name": "ipython",
    "version": 3
   },
   "file_extension": ".py",
   "mimetype": "text/x-python",
   "name": "python",
   "nbconvert_exporter": "python",
   "pygments_lexer": "ipython3",
   "version": "3.8.3"
  }
 },
 "nbformat": 4,
 "nbformat_minor": 5
}
