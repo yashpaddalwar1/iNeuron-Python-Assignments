{
 "cells": [
  {
   "cell_type": "markdown",
   "id": "1ee3ee85",
   "metadata": {},
   "source": [
    "# *Author: Yash Ajit Paddalwar*\n",
    "# *Email ID: yash9096.p@gmail.com*"
   ]
  },
  {
   "cell_type": "markdown",
   "id": "6b12304c",
   "metadata": {},
   "source": [
    "# 1\n",
    "1. Create a function to perform basic arithmetic operations that includes\n",
    "addition, subtraction, multiplication and division on a string number (e.g. &quot;12 +\n",
    "24&quot; or &quot;23 - 21&quot; or &quot;12 // 12&quot; or &quot;12 * 21&quot;).\n",
    "Here, we have 1 followed by a space, operator followed by another space\n",
    "and 2. For the challenge, we are going to have only two numbers between 1\n",
    "valid operator. The return value should be a number.\n",
    "eval() is not allowed. In case of division, whenever the second number equals\n",
    "&quot;0&quot; return -1.\n",
    "For example:\n",
    "&quot;15 // 0&quot; ➞ -1\n",
    "Examples\n",
    "arithmetic_operation(&quot;12 + 12&quot;) ➞ 24 // 12 + 12 = 24\n",
    "arithmetic_operation(&quot;12 - 12&quot;) ➞ 24 // 12 - 12 = 0\n",
    "arithmetic_operation(&quot;12 * 12&quot;) ➞ 144 // 12 * 12 = 144\n",
    "arithmetic_operation(&quot;12 // 0&quot;) ➞ -1 // 12 / 0 = -1"
   ]
  },
  {
   "cell_type": "code",
   "execution_count": 19,
   "id": "465372dd",
   "metadata": {},
   "outputs": [
    {
     "data": {
      "text/plain": [
       "-1"
      ]
     },
     "execution_count": 19,
     "metadata": {},
     "output_type": "execute_result"
    }
   ],
   "source": [
    "def arithmetic_operation(string):\n",
    "    a = string.split(\" \")\n",
    "    if a[1] == '+':\n",
    "        return int(a[0]) + int(a[2])\n",
    "    if a[1] == '*':\n",
    "        return int(a[0]) * int(a[2])\n",
    "    if a[1] == '*':\n",
    "        return int(a[0]) * int(a[2])\n",
    "    if a[1] == '/':\n",
    "        if int(a[2]) == 0:\n",
    "            return -1\n",
    "        return int(a[0]) / int(a[2])\n",
    "    if a[1] == '//':\n",
    "        if int(a[2]) == 0:\n",
    "            return -1\n",
    "        return int(a[0]) // int(a[2])\n",
    "    if a[1] == '**':\n",
    "        return int(a[0]) ** int(a[2])\n",
    "\n",
    "arithmetic_operation(\"12 // 0\")"
   ]
  },
  {
   "cell_type": "markdown",
   "id": "8e8a8273",
   "metadata": {},
   "source": [
    "# 2\n",
    "2. Write a function that takes the coordinates of three points in the form of a\n",
    "2d array and returns the perimeter of the triangle. The given points are the\n",
    "vertices of a triangle on a two-dimensional plane.\n",
    "Examples\n",
    "perimeter( [ [15, 7], [5, 22], [11, 1] ] ) ➞ 47.08\n",
    "perimeter( [ [0, 0], [0, 1], [1, 0] ] ) ➞ 3.42\n",
    "perimeter( [ [-10, -10], [10, 10 ], [-10, 10] ] ) ➞ 68.28"
   ]
  },
  {
   "cell_type": "code",
   "execution_count": 35,
   "id": "d7a8cbaa",
   "metadata": {},
   "outputs": [
    {
     "data": {
      "text/plain": [
       "68.28"
      ]
     },
     "execution_count": 35,
     "metadata": {},
     "output_type": "execute_result"
    }
   ],
   "source": [
    "import math\n",
    "def perimeter(coordinates):\n",
    "    def distance(lst1,lst2):\n",
    "        return math.sqrt((lst1[0] - lst2[0])**2 + (lst1[1] - lst2[1])**2)\n",
    "    return round(distance(coordinates[0],coordinates[1]) + distance(coordinates[1],coordinates[2]) + distance(coordinates[0],coordinates[2]),2)\n",
    "perimeter([[-10,-10], [10,10 ],[-10,10]])"
   ]
  },
  {
   "cell_type": "markdown",
   "id": "b33aa6e8",
   "metadata": {},
   "source": [
    "# 3\n",
    "3. A city skyline can be represented as a 2-D list with 1s representing\n",
    "buildings. In the example below, the height of the tallest building is 4 (second-\n",
    "most right column).\n",
    "[[0, 0, 0, 0, 0, 0],\n",
    "[0, 0, 0, 0, 1, 0],\n",
    "[0, 0, 1, 0, 1, 0],\n",
    "[0, 1, 1, 1, 1, 0],\n",
    "\n",
    "[1, 1, 1, 1, 1, 1]]\n",
    "Create a function that takes a skyline (2-D list of 0&#39;s and 1&#39;s) and returns the\n",
    "height of the tallest skyscraper.\n",
    "Examples\n",
    "tallest_skyscraper([\n",
    "[0, 0, 0, 0],\n",
    "[0, 1, 0, 0],\n",
    "[0, 1, 1, 0],\n",
    "[1, 1, 1, 1]\n",
    "]) ➞ 3\n",
    "tallest_skyscraper([\n",
    "[0, 1, 0, 0],\n",
    "[0, 1, 0, 0],\n",
    "[0, 1, 1, 0],\n",
    "[1, 1, 1, 1]\n",
    "]) ➞ 4\n",
    "tallest_skyscraper([\n",
    "[0, 0, 0, 0],\n",
    "[0, 0, 0, 0],\n",
    "[1, 1, 1, 0],\n",
    "[1, 1, 1, 1]\n",
    "]) ➞ 2"
   ]
  },
  {
   "cell_type": "code",
   "execution_count": 41,
   "id": "c9db9802",
   "metadata": {},
   "outputs": [
    {
     "data": {
      "text/plain": [
       "4"
      ]
     },
     "execution_count": 41,
     "metadata": {},
     "output_type": "execute_result"
    }
   ],
   "source": [
    "def tallest_skyscraper(lst):\n",
    "    count = 0\n",
    "    final = []\n",
    "    for i in range(len(lst[0])):\n",
    "        lstnew = []\n",
    "        for j in range(len(lst)):\n",
    "            lstnew.append(lst[j][i])\n",
    "        final.append(lstnew)\n",
    "    heights = []\n",
    "    for i in final:\n",
    "        heights.append(sum(i))\n",
    "    return max(heights)\n",
    "\n",
    "tallest_skyscraper([[0, 1, 0, 0], \n",
    "                    [0, 1, 0, 0], \n",
    "                    [0, 1, 1, 0], \n",
    "                    [1, 1, 1, 1]])"
   ]
  },
  {
   "cell_type": "markdown",
   "id": "8ae3bb98",
   "metadata": {},
   "source": [
    "# 4\n",
    "4. A financial institution provides professional services to banks and claims\n",
    "charges from the customers based on the number of man-days provided.\n",
    "Internally, it has set a scheme to motivate and reward staff to meet and\n",
    "exceed targeted billable utilization and revenues by paying a bonus for each\n",
    "day claimed from customers in excess of a threshold target.\n",
    "This quarterly scheme is calculated with a threshold target of 32 days per\n",
    "quarter, and the incentive payment for each billable day in excess of such\n",
    "threshold target is shown as follows:\n",
    "Days Bonus\n",
    "0 to 32 days Zero\n",
    "33 to 40 days SGD$325 per billable day\n",
    "41 to 48 days SGD$550 per billable day\n",
    "Greater than 48 days SGD$600 per billable day\n",
    "\n",
    "Please note that incentive payment is calculated progressively. As an\n",
    "example, if an employee reached total billable days of 45 in a quarter, his/her\n",
    "incentive payment is computed as follows:\n",
    "32*0 + 8*325 + 5*550 = 5350\n",
    "Write a function to read the billable days of an employee and return the bonus\n",
    "he/she has obtained in that quarter.\n",
    "Examples\n",
    "bonus(15) ➞ 0\n",
    "bonus(37) ➞ 1625\n",
    "bonus(50) ➞ 8200"
   ]
  },
  {
   "cell_type": "code",
   "execution_count": 53,
   "id": "f7e178d4",
   "metadata": {},
   "outputs": [
    {
     "data": {
      "text/plain": [
       "8200"
      ]
     },
     "execution_count": 53,
     "metadata": {},
     "output_type": "execute_result"
    }
   ],
   "source": [
    "def bonus(n):\n",
    "    bonus_value = 0\n",
    "    if n >= 32:\n",
    "        if n <= 40:\n",
    "            bonus_value = bonus_value + (n - 32)*325\n",
    "            return bonus_value\n",
    "        else:\n",
    "            bonus_value = bonus_value + (8)*325\n",
    "            if n <= 48:\n",
    "                bonus_value = bonus_value + (n - 40)*550\n",
    "                return bonus_value\n",
    "            else:\n",
    "                bonus_value = bonus_value + (8)*550\n",
    "                if n >= 48:\n",
    "                    bonus_value = bonus_value + (n - 48)*600\n",
    "                    return bonus_value\n",
    "    else:\n",
    "        return 0\n",
    "\n",
    "bonus(50)"
   ]
  },
  {
   "cell_type": "markdown",
   "id": "dac2312e",
   "metadata": {},
   "source": [
    "# 5\n",
    "5. A number is said to be Disarium if the sum of its digits raised to their\n",
    "respective positions is the number itself.\n",
    "Create a function that determines whether a number is a Disarium or not.\n",
    "Examples\n",
    "is_disarium(75) ➞ False\n",
    "#. 7^1 + 5^2 = 7 + 25 = 32\n",
    "is_disarium(135) ➞ True\n",
    "#. 1^1 + 3^2 + 5^3 = 1 + 9 + 125 = 135\n",
    "is_disarium(544) ➞ False\n",
    "is_disarium(518) ➞ True\n",
    "is_disarium(466) ➞ False\n",
    "is_disarium(8) ➞ True"
   ]
  },
  {
   "cell_type": "code",
   "execution_count": 76,
   "id": "f68c8a9c",
   "metadata": {},
   "outputs": [
    {
     "data": {
      "text/plain": [
       "True"
      ]
     },
     "execution_count": 76,
     "metadata": {},
     "output_type": "execute_result"
    }
   ],
   "source": [
    "def is_disarium(n):\n",
    "    n = str(n)\n",
    "    val = 0\n",
    "    for i in range(len(n)):\n",
    "        val = val + int(n[i])**(i + 1)\n",
    "    if val == int(n):\n",
    "        return True\n",
    "    else:\n",
    "        return False\n",
    "is_disarium(518)"
   ]
  }
 ],
 "metadata": {
  "kernelspec": {
   "display_name": "Python 3",
   "language": "python",
   "name": "python3"
  },
  "language_info": {
   "codemirror_mode": {
    "name": "ipython",
    "version": 3
   },
   "file_extension": ".py",
   "mimetype": "text/x-python",
   "name": "python",
   "nbconvert_exporter": "python",
   "pygments_lexer": "ipython3",
   "version": "3.8.3"
  }
 },
 "nbformat": 4,
 "nbformat_minor": 5
}
