{
 "cells": [
  {
   "cell_type": "markdown",
   "id": "bdd2b191",
   "metadata": {},
   "source": [
    "# *Author: Yash Ajit Paddalwar*\n",
    "# *Email ID: yash9096.p@gmail.com*"
   ]
  },
  {
   "cell_type": "markdown",
   "id": "9108137e",
   "metadata": {},
   "source": [
    "# 1\n",
    "1. Write a function that counts how many concentric layers a rug.\n",
    "Examples\n",
    "count_layers([\n",
    "&quot;AAAA&quot;,\n",
    "&quot;ABBA&quot;,\n",
    "&quot;AAAA&quot;\n",
    "]) ➞ 2\n",
    "count_layers([\n",
    "&quot;AAAAAAAAA&quot;,\n",
    "&quot;ABBBBBBBA&quot;,\n",
    "&quot;ABBAAABBA&quot;,\n",
    "&quot;ABBBBBBBA&quot;,\n",
    "&quot;AAAAAAAAA&quot;\n",
    "]) ➞ 3\n",
    "count_layers([\n",
    "&quot;AAAAAAAAAAA&quot;,\n",
    "&quot;AABBBBBBBAA&quot;,\n",
    "&quot;AABCCCCCBAA&quot;,\n",
    "&quot;AABCAAACBAA&quot;,\n",
    "&quot;AABCADACBAA&quot;,\n",
    "&quot;AABCAAACBAA&quot;,\n",
    "&quot;AABCCCCCBAA&quot;,\n",
    "&quot;AABBBBBBBAA&quot;,\n",
    "&quot;AAAAAAAAAAA&quot;\n",
    "]) ➞ 5"
   ]
  },
  {
   "cell_type": "code",
   "execution_count": 11,
   "id": "e16e6234",
   "metadata": {},
   "outputs": [
    {
     "data": {
      "text/plain": [
       "5"
      ]
     },
     "execution_count": 11,
     "metadata": {},
     "output_type": "execute_result"
    }
   ],
   "source": [
    "def count_layers(lst):\n",
    "    length = len(lst)\n",
    "    count = 0\n",
    "    for i,j in enumerate(lst):\n",
    "        if (i) < (length // 2):\n",
    "            if lst[i] == lst[-(i+1)]:\n",
    "                count += 1\n",
    "    return count + 1\n",
    "\n",
    "count_layers([ \"AAAAAAAAAAA\", \"AABBBBBBBAA\", \"AABCCCCCBAA\", \"AABCAAACBAA\", \"AABCADACBAA\", \"AABCAAACBAA\", \"AABCCCCCBAA\", \"AABBBBBBBAA\", \"AAAAAAAAAAA\" ])"
   ]
  },
  {
   "cell_type": "markdown",
   "id": "f050d41f",
   "metadata": {},
   "source": [
    "# 2\n",
    "2. There are many different styles of music and many albums exhibit multiple\n",
    "styles. Create a function that takes a list of musical styles from albums and\n",
    "returns how many styles are unique.\n",
    "Examples\n",
    "unique_styles([\n",
    "&quot;Dub,Dancehall&quot;,\n",
    "&quot;Industrial,Heavy Metal&quot;,\n",
    "&quot;Techno,Dubstep&quot;,\n",
    "&quot;Synth-pop,Euro-Disco&quot;,\n",
    "&quot;Industrial,Techno,Minimal&quot;\n",
    "]) ➞ 9\n",
    "unique_styles([\n",
    "\n",
    "&quot;Soul&quot;,\n",
    "&quot;House,Folk&quot;,\n",
    "&quot;Trance,Downtempo,Big Beat,House&quot;,\n",
    "&quot;Deep House&quot;,\n",
    "&quot;Soul&quot;\n",
    "]) ➞ 7"
   ]
  },
  {
   "cell_type": "code",
   "execution_count": 8,
   "id": "3a7f1972",
   "metadata": {},
   "outputs": [
    {
     "data": {
      "text/plain": [
       "7"
      ]
     },
     "execution_count": 8,
     "metadata": {},
     "output_type": "execute_result"
    }
   ],
   "source": [
    "def unique_styles(musical_styles):\n",
    "    lst = []\n",
    "    for i in musical_styles:\n",
    "        if \",\" in i:\n",
    "            i = i.split(\",\")\n",
    "            for m in i:\n",
    "                lst.append(m)\n",
    "        else:\n",
    "            lst.append(i)\n",
    "    unique_styles_count = []\n",
    "    for i in lst:\n",
    "        if i not in unique_styles_count:\n",
    "            unique_styles_count.append(i)\n",
    "    \n",
    "    return len(unique_styles_count)\n",
    "\n",
    "unique_styles([\"Soul\", \"House,Folk\", \"Trance,Downtempo,Big Beat,House\", \"Deep House\", \"Soul\" ]) "
   ]
  },
  {
   "cell_type": "markdown",
   "id": "3b9cae29",
   "metadata": {},
   "source": [
    "# 3\n",
    "3. Create a function that finds a target number in a list of prime numbers.\n",
    "Implement a binary search algorithm in your function. The target number will\n",
    "be from 2 through 97. If the target is prime then return &quot;yes&quot; else return &quot;no&quot;.\n",
    "Examples\n",
    "primes = [2, 3, 5, 7, 11, 13, 17, 19, 23, 29, 31, 37, 41, 43, 47, 53, 59, 61, 67,\n",
    "71, 73, 79, 83, 89, 97]\n",
    "\n",
    "is_prime(primes, 3) ➞ &quot;yes&quot;\n",
    "is_prime(primes, 4) ➞ &quot;no&quot;\n",
    "is_prime(primes, 67) ➞ &quot;yes&quot;\n",
    "is_prime(primes, 36) ➞ &quot;no&quot;"
   ]
  },
  {
   "cell_type": "code",
   "execution_count": 19,
   "id": "905e4050",
   "metadata": {},
   "outputs": [
    {
     "data": {
      "text/plain": [
       "'Yes'"
      ]
     },
     "execution_count": 19,
     "metadata": {},
     "output_type": "execute_result"
    }
   ],
   "source": [
    "def is_prime(primes,target):\n",
    "    low = 0\n",
    "    high = len(primes) - 1\n",
    "    while(low <= high):\n",
    "        middle = round((low + high) / 2)\n",
    "        if primes[middle] == target:\n",
    "            return \"Yes\"\n",
    "        elif primes[middle] > target:\n",
    "            high = middle - 1\n",
    "        else:\n",
    "            low = middle + 1\n",
    "    else:\n",
    "        return \"No\"\n",
    "\n",
    "primes = [2, 3, 5, 7, 11, 13, 17, 19, 23, 29, 31, 37, 41, 43, 47, 53, 59, 61, 67, 71, 73, 79, 83, 89, 97]\n",
    "is_prime(primes,67)"
   ]
  },
  {
   "cell_type": "markdown",
   "id": "f08e14bf",
   "metadata": {},
   "source": [
    "# 4\n",
    "4. Create a function that takes in n, a, b and returns the number of positive\n",
    "values raised to the nth power that lie in the range [a, b], inclusive.\n",
    "Examples\n",
    "power_ranger(2, 49, 65) ➞ 2\n",
    "#. 2 squares (n^2) lie between 49 and 65, 49 (7^2) and 64 (8^2)\n",
    "power_ranger(3, 1, 27) ➞ 3\n",
    "#. 3 cubes (n^3) lie between 1 and 27, 1 (1^3), 8 (2^3) and 27 (3^3)\n",
    "power_ranger(10, 1, 5) ➞ 1\n",
    "#. 1 value raised to the 10th power lies between 1 and 5, 1 (1^10)\n",
    "power_ranger(5, 31, 33) ➞ 1\n",
    "power_ranger(4, 250, 1300) ➞ 3"
   ]
  },
  {
   "cell_type": "code",
   "execution_count": 37,
   "id": "6b1bd57c",
   "metadata": {},
   "outputs": [
    {
     "data": {
      "text/plain": [
       "1"
      ]
     },
     "execution_count": 37,
     "metadata": {},
     "output_type": "execute_result"
    }
   ],
   "source": [
    "def power_ranger(n, a, b):\n",
    "    lst = []\n",
    "    for i in range(1,b):\n",
    "        if (i)**(n) >= a and (i)**(n) <= b:\n",
    "            lst.append(i)\n",
    "    return len(lst)\n",
    "\n",
    "power_ranger(5, 31, 33)"
   ]
  },
  {
   "cell_type": "markdown",
   "id": "40fbcc54",
   "metadata": {},
   "source": [
    "# 5\n",
    "5. Given a number, return the difference between the maximum and minimum\n",
    "numbers that can be formed when the digits are rearranged.\n",
    "Examples\n",
    "rearranged_difference(972882) ➞ 760833\n",
    "#. 988722 - 227889 = 760833\n",
    "rearranged_difference(3320707) ➞ 7709823\n",
    "#. 7733200 - 23377 = 7709823\n",
    "rearranged_difference(90010) ➞ 90981\n",
    "#. 91000 - 19 = 90981"
   ]
  },
  {
   "cell_type": "code",
   "execution_count": 11,
   "id": "e687ac47",
   "metadata": {},
   "outputs": [
    {
     "data": {
      "text/plain": [
       "7709823"
      ]
     },
     "execution_count": 11,
     "metadata": {},
     "output_type": "execute_result"
    }
   ],
   "source": [
    "def to_string(a):\n",
    "    return \"\".join(a)\n",
    "def rearranged_difference(n,left,right,final):\n",
    "    # Rearranging means finding the permutations of the number\n",
    "    if left == right:\n",
    "        final.append(int(to_string(lst)))\n",
    "    else:\n",
    "        for i in range(left,right):\n",
    "            lst[left],lst[i] = lst[i],lst[left]\n",
    "            rearranged_difference(lst,left+1,right,final)\n",
    "            lst[left],lst[i] = lst[i],lst[left]\n",
    "    \n",
    "    return max(final) - min(final)\n",
    "\n",
    "n = str(3320707)\n",
    "lst = list(n)\n",
    "left = 0\n",
    "right = len(n)\n",
    "final = []\n",
    "rearranged_difference(n,left,right,final)"
   ]
  }
 ],
 "metadata": {
  "kernelspec": {
   "display_name": "Python 3",
   "language": "python",
   "name": "python3"
  },
  "language_info": {
   "codemirror_mode": {
    "name": "ipython",
    "version": 3
   },
   "file_extension": ".py",
   "mimetype": "text/x-python",
   "name": "python",
   "nbconvert_exporter": "python",
   "pygments_lexer": "ipython3",
   "version": "3.8.3"
  }
 },
 "nbformat": 4,
 "nbformat_minor": 5
}
