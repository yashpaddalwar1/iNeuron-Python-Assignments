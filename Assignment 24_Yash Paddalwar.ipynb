{
 "cells": [
  {
   "cell_type": "markdown",
   "id": "ca2b7902",
   "metadata": {},
   "source": [
    "# *Author: Yash Ajit Paddalwar*\n",
    "# *Email ID: yash9096.p@gmail.com*"
   ]
  },
  {
   "cell_type": "markdown",
   "id": "d6485012",
   "metadata": {},
   "source": [
    "## 1. What is the relationship between def statements and lambda expressions ?\n",
    "**Solution:** As an expression, lambda returns a value that can optionally be assigned a name. In contrast, the def statement always assigns the new function to the name in the header, instead of returning is as a result. lambda's body is a single expression, not a block of statements.\n",
    "## 2. What is the benefit of lambda?\n",
    "**Solution:** Lambda functions reduce the number of lines of code when compared to normal python function defined using def keyword. But this is not exactly true because, even functions defined with def can be defined in one single line. But generally, def functions are written in more than 1 line.\n",
    "## 3. Compare and contrast map, filter, and reduce.\n",
    "**Solution:** map() creates a new array by transforming every element in an array individually. filter() creates a new array by removing elements that don't belong. reduce() , on the other hand, takes all of the elements in an array and reduces them into a single value.\n",
    "## 4. What are function annotations, and how are they used?\n",
    "**Solution:** Function annotations are completely optional both for parameters and return value. Function annotations provide a way of associating various parts of a function with arbitrary python expressions at compile time. The PEP-3107 makes no attempt to introduce any kind of standard semantics, even for the built-in types.\n",
    "## 5. What are recursive functions, and how are they used?\n",
    "**Solution:** A recursive function is a function in code that refers to itself for execution. Recursive functions can be simple or elaborate. They allow for more efficient code writing, for instance, in the listing or compiling of sets of numbers, strings or other variables through a single reiterated process.\n",
    "## 6. What are some general design guidelines for coding functions?\n",
    "**Solution:** 1. Use 4-space indentation and no tabs. ...\n",
    "2. Use docstrings : There are both single and multi-line docstrings that can be used in Python. ...\n",
    "3. Wrap lines so that they don't exceed 79 characters : The Python standard library is conservative and requires limiting lines to 79 characters.\n",
    "## 7. Name three or more ways that functions can communicate results to a caller.\n",
    "**Solution:** When a function gets executed in the program, the execution control is transferred from calling a function to called function and executes function definition, and finally comes back to the calling function. In this process, both calling and called functions have to communicate with each other to exchange information."
   ]
  }
 ],
 "metadata": {
  "kernelspec": {
   "display_name": "Python 3",
   "language": "python",
   "name": "python3"
  },
  "language_info": {
   "codemirror_mode": {
    "name": "ipython",
    "version": 3
   },
   "file_extension": ".py",
   "mimetype": "text/x-python",
   "name": "python",
   "nbconvert_exporter": "python",
   "pygments_lexer": "ipython3",
   "version": "3.8.3"
  }
 },
 "nbformat": 4,
 "nbformat_minor": 5
}
