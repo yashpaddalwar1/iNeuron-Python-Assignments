{
 "cells": [
  {
   "cell_type": "markdown",
   "id": "7b4d2717",
   "metadata": {},
   "source": [
    "# *Author: Yash Ajit Paddalwar*\n",
    "# *Email ID: yash9096.p@gmail.com*"
   ]
  },
  {
   "cell_type": "markdown",
   "id": "ca79d96d",
   "metadata": {},
   "source": [
    "# 1\n",
    "1. YouTube offers different playback speed options for users. This allows\n",
    "users to increase or decrease the speed of the video content. Given the\n",
    "actual duration and playback speed of the video, calculate the playback\n",
    "duration of the video.\n",
    "Examples\n",
    "playback_duration(&quot;00:30:00&quot;, 2) ➞ &quot;00:15:00&quot;\n",
    "playback_duration(&quot;01:20:00&quot;, 1.5) ➞ &quot;00:53:20&quot;\n",
    "playback_duration(&quot;51:20:09&quot;, 0.5) ➞ &quot;102:40:18&quot;"
   ]
  },
  {
   "cell_type": "code",
   "execution_count": 24,
   "id": "bed60899",
   "metadata": {},
   "outputs": [
    {
     "data": {
      "text/plain": [
       "'00:15:00'"
      ]
     },
     "execution_count": 24,
     "metadata": {},
     "output_type": "execute_result"
    }
   ],
   "source": [
    "def playback_duration(string,speed):\n",
    "    temp = list(string.split(\":\"))\n",
    "    temp = [int(i) for i in temp]\n",
    "    duration_in_secs = temp[0]*3600 + temp[1]*60 + temp[2]\n",
    "    duration_after_speed = duration_in_secs / speed\n",
    "    final = []\n",
    "    if duration_after_speed >= 3600:\n",
    "        hours = duration_after_speed // 3600\n",
    "        final.append(str(int(hours)))\n",
    "        if (duration_after_speed % 3600) >= 60:\n",
    "            minutes = (duration_after_speed % 3600) // 60\n",
    "            final.append(str(int(minutes)))\n",
    "            final.append(str(int((duration_after_speed % 3600) % 60)))\n",
    "        else:\n",
    "            final.append(\"00\")\n",
    "            final.append(str(int(duration_after_speed % 3600)))\n",
    "    else:\n",
    "        final.append(\"00\")\n",
    "        if duration_after_speed >= 60:\n",
    "            minutes = (duration_after_speed) // 60\n",
    "            final.append(str(int(minutes)).zfill(2))\n",
    "            final.append(str((int(duration_after_speed % 3600)) % 60).zfill(2))\n",
    "        else:\n",
    "            final.append(\"00\")\n",
    "            final.append(str(int(duration_after_speed) % 3600))\n",
    "    return \":\".join(final)\n",
    "\n",
    "playback_duration(\"00:30:00\", 2)"
   ]
  },
  {
   "cell_type": "markdown",
   "id": "9082a5d3",
   "metadata": {},
   "source": [
    "# 2\n",
    "2. We needs your help to construct a building which will be a pile of n cubes.\n",
    "The cube at the bottom will have a volume of n^3, the cube above will have\n",
    "volume of (n-1)^3 and so on until the top which will have a volume of 1^3.\n",
    "Given the total volume m of the building, can you find the number of cubes n\n",
    "required for the building?\n",
    "In other words, you have to return an integer n such that:\n",
    "n^3 + (n-1)^3 + ... + 1^3 == m\n",
    "Return None if there is no such number.\n",
    "Examples\n",
    "pile_of_cubes(1071225) ➞ 45\n",
    "pile_of_cubes(4183059834009) ➞ 2022\n",
    "pile_of_cubes(16) ➞ None"
   ]
  },
  {
   "cell_type": "code",
   "execution_count": 10,
   "id": "3e60a20b",
   "metadata": {},
   "outputs": [
    {
     "data": {
      "text/plain": [
       "2022"
      ]
     },
     "execution_count": 10,
     "metadata": {},
     "output_type": "execute_result"
    }
   ],
   "source": [
    "def pile_of_cubes(m):\n",
    "    sum = 0\n",
    "    count = 1\n",
    "    while True:\n",
    "        sum = sum + (count)**(3)\n",
    "        if sum == m:\n",
    "            return count\n",
    "        elif m < sum:\n",
    "            return None\n",
    "        else:\n",
    "            count = count + 1\n",
    "pile_of_cubes(4183059834009)"
   ]
  },
  {
   "cell_type": "markdown",
   "id": "309a7e8d",
   "metadata": {},
   "source": [
    "# 3\n",
    "3. A fulcrum of a list is an integer such that all elements to the left of it and all\n",
    "elements to the right of it sum to the same value. Write a function that finds\n",
    "the fulcrum of a list.\n",
    "To illustrate:\n",
    "find_fulcrum([3, 1, 5, 2, 4, 6, -1]) ➞ 2\n",
    "// Since [3, 1, 5] and [4, 6, -1] both sum to 9\n",
    "Examples\n",
    "\n",
    "find_fulcrum([1, 2, 4, 9, 10, -10, -9, 3]) ➞ 4\n",
    "find_fulcrum([9, 1, 9]) ➞ 1\n",
    "find_fulcrum([7, -1, 0, -1, 1, 1, 2, 3]) ➞ 0\n",
    "find_fulcrum([8, 8, 8, 8]) ➞ -1"
   ]
  },
  {
   "cell_type": "code",
   "execution_count": 49,
   "id": "0027c7ca",
   "metadata": {},
   "outputs": [
    {
     "data": {
      "text/plain": [
       "2"
      ]
     },
     "execution_count": 49,
     "metadata": {},
     "output_type": "execute_result"
    }
   ],
   "source": [
    "def find_fulcrum(lst):\n",
    "    if len(lst) % 2 != 0:\n",
    "        if sum(lst[0:(len(lst) // 2)]) == sum(lst[-1:(len(lst) // 2):-1]):\n",
    "            return lst[(len(lst) // 2)]\n",
    "find_fulcrum([3, 1, 5, 2, 4, 6, -1])"
   ]
  },
  {
   "cell_type": "code",
   "execution_count": 80,
   "id": "192fa06a",
   "metadata": {},
   "outputs": [
    {
     "data": {
      "text/plain": [
       "4"
      ]
     },
     "execution_count": 80,
     "metadata": {},
     "output_type": "execute_result"
    }
   ],
   "source": [
    "def find_fulcrum(lst):\n",
    "    reverse = lst[::-1]\n",
    "    l = len(lst)\n",
    "    for i in range(len(lst)):\n",
    "        if sum(lst[0:i]) == sum(reverse[0:(l-i)-1]):\n",
    "            return lst[i]\n",
    "    return -1\n",
    "find_fulcrum([1, 2, 4, 9, 10, -10, -9, 3])"
   ]
  },
  {
   "cell_type": "markdown",
   "id": "48121260",
   "metadata": {},
   "source": [
    "# 4\n",
    "4. Given a list of integers representing the color of each sock, determine how\n",
    "many pairs of socks with matching colors there are. For example, there are 7\n",
    "socks with colors [1, 2, 1, 2, 1, 3, 2]. There is one pair of color 1 and one of\n",
    "color 2. There are three odd socks left, one of each color. The number of\n",
    "pairs is 2.\n",
    "Create a function that returns an integer representing the number of matching\n",
    "pairs of socks that are available.\n",
    "Examples\n",
    "sock_merchant([10, 20, 20, 10, 10, 30, 50, 10, 20]) ➞ 3\n",
    "sock_merchant([50, 20, 30, 90, 30, 20, 50, 20, 90]) ➞ 4\n",
    "sock_merchant([]) ➞ 0"
   ]
  },
  {
   "cell_type": "code",
   "execution_count": 93,
   "id": "175490b8",
   "metadata": {},
   "outputs": [
    {
     "data": {
      "text/plain": [
       "3"
      ]
     },
     "execution_count": 93,
     "metadata": {},
     "output_type": "execute_result"
    }
   ],
   "source": [
    "def sock_merchant(lst):\n",
    "    if lst == []:\n",
    "        return 0\n",
    "    new = []\n",
    "    for i in lst:\n",
    "        if i not in new:\n",
    "            new.append(i)\n",
    "    count = 0\n",
    "    for i in range(0,len(lst)-1,2):\n",
    "        if lst[i] in new and lst[i+1] in new:\n",
    "            count += 1\n",
    "    return count - 1\n",
    "\n",
    "sock_merchant([10, 20, 20, 10, 10, 30, 50, 10, 20])"
   ]
  },
  {
   "cell_type": "markdown",
   "id": "3e9d7903",
   "metadata": {},
   "source": [
    "# 5\n",
    "5. Create a function that takes a string containing integers as well as other\n",
    "characters and return the sum of the negative integers only.\n",
    "Examples\n",
    "negative_sum(&quot;-12 13%14&amp;-11&quot;) ➞ -23\n",
    "#. -12 + -11 = -23\n",
    "negative_sum(&quot;22 13%14&amp;-11-22 13 12&quot;) ➞ -33\n",
    "#. -11 + -22 = -33"
   ]
  },
  {
   "cell_type": "code",
   "execution_count": 120,
   "id": "8b345262",
   "metadata": {},
   "outputs": [
    {
     "data": {
      "text/plain": [
       "-33"
      ]
     },
     "execution_count": 120,
     "metadata": {},
     "output_type": "execute_result"
    }
   ],
   "source": [
    "def negative_sum(string):\n",
    "    new = \"\"\n",
    "    for i in range(len(string)):\n",
    "        if string[i] == \"-\":\n",
    "            new = new + \" -\"\n",
    "            for j in range(i+1,len(string)):\n",
    "                try:\n",
    "                    if type(int(string[j])) == int:\n",
    "                        new = new + str(string[j])\n",
    "                except:\n",
    "                    break\n",
    "    sum = 0\n",
    "    for i in new.strip().split(\" \"):\n",
    "        sum = sum + int(i)\n",
    "    return sum\n",
    "\n",
    "negative_sum(\"22 13%14&-11-22 13 12\")"
   ]
  }
 ],
 "metadata": {
  "kernelspec": {
   "display_name": "Python 3",
   "language": "python",
   "name": "python3"
  },
  "language_info": {
   "codemirror_mode": {
    "name": "ipython",
    "version": 3
   },
   "file_extension": ".py",
   "mimetype": "text/x-python",
   "name": "python",
   "nbconvert_exporter": "python",
   "pygments_lexer": "ipython3",
   "version": "3.8.3"
  }
 },
 "nbformat": 4,
 "nbformat_minor": 5
}
