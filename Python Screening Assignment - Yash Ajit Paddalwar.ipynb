{
 "cells": [
  {
   "cell_type": "markdown",
   "id": "ccb871f9",
   "metadata": {},
   "source": [
    "# Python Screening Assignment\n",
    "# Name: Yash Ajit Paddalwar"
   ]
  },
  {
   "cell_type": "markdown",
   "id": "c99085fb",
   "metadata": {},
   "source": [
    "#### Question 1. Create a function in python to read the text file and replace specific content of the file.\n",
    "#### Solution:"
   ]
  },
  {
   "cell_type": "code",
   "execution_count": 1,
   "id": "eab1e6b5",
   "metadata": {},
   "outputs": [
    {
     "name": "stdout",
     "output_type": "stream",
     "text": [
      "Original Content is:  This is a placement assignment\n",
      "Replaced Content is:  This is a screening assignment\n"
     ]
    }
   ],
   "source": [
    "def read_and_replace_file(file_name):\n",
    "    # Opening the file\n",
    "    f = open(file_name,'r')\n",
    "    \n",
    "    # Reading the Content\n",
    "    data = f.read()\n",
    "    print('Original Content is: ',data)\n",
    "    \n",
    "    # Replacing the Content\n",
    "    f = open(file_name,'w')\n",
    "    f.write(data.replace('placement','screening'))\n",
    "    \n",
    "    # Reading the Replaced Content\n",
    "    f = open(file_name,'r')\n",
    "    new = f.read()\n",
    "    print(\"Replaced Content is: \",new)    \n",
    "\n",
    "read_and_replace_file('example.txt')"
   ]
  },
  {
   "cell_type": "markdown",
   "id": "55727ed3",
   "metadata": {},
   "source": [
    "#### Question 2. Demonstrate use of abstract class, multiple inheritance and decorator in python using examples.\n",
    "#### Solution:"
   ]
  },
  {
   "cell_type": "markdown",
   "id": "55ad6a6d",
   "metadata": {},
   "source": [
    "Abstract Class:\n",
    "A blueprint for additional classes can be found in an abstract class. It enables you to provide a set of methods that must be implemented in any child classes that are formed from the abstract class. The term \"abstract class\" refers to a class that has one or more abstract methods."
   ]
  },
  {
   "cell_type": "code",
   "execution_count": 2,
   "id": "dfea3c0c",
   "metadata": {},
   "outputs": [
    {
     "name": "stdout",
     "output_type": "stream",
     "text": [
      "I am inside Abstract Class\n",
      "I am outside Abstract Class\n"
     ]
    }
   ],
   "source": [
    "# Abstract Class\n",
    "\n",
    "from abc import ABC,abstractmethod\n",
    "\n",
    "class Abstract_class(ABC):\n",
    "    @abstractmethod\n",
    "    def func(self):\n",
    "        print('I am inside Abstract Class')\n",
    "\n",
    "class New(Abstract_class):\n",
    "    def func(self):\n",
    "        super().func()\n",
    "        print(\"I am outside Abstract Class\")\n",
    "\n",
    "o1 = New()\n",
    "o1.func()"
   ]
  },
  {
   "cell_type": "markdown",
   "id": "dee3a8db",
   "metadata": {},
   "source": [
    "Multiple Inheritance: A class can be derived from more than one base class in Python, similar to C++. This is called multiple inheritance."
   ]
  },
  {
   "cell_type": "code",
   "execution_count": 3,
   "id": "c37014bb",
   "metadata": {},
   "outputs": [
    {
     "name": "stdout",
     "output_type": "stream",
     "text": [
      "Barking\n"
     ]
    }
   ],
   "source": [
    "# Demonstrating Multiple Inheritance\n",
    "\n",
    "# Parent Class 1\n",
    "class Animal:\n",
    "    def display(self):\n",
    "        print(\"Eating\")\n",
    "        \n",
    "# Parent Class 2\n",
    "class Dog:\n",
    "    def display(self):\n",
    "        print(\"Barking\")\n",
    "\n",
    "# Child Class\n",
    "class BabyDog(Dog,Animal):\n",
    "    def display(self):\n",
    "        super().display()\n",
    "\n",
    "# Creating Object of the Child Class\n",
    "o1 = BabyDog()\n",
    "o1.display()  # Calling the Display Function"
   ]
  },
  {
   "cell_type": "markdown",
   "id": "c7733be1",
   "metadata": {},
   "source": [
    "Decorator: \n",
    "Decorators are a Python feature that allows you to add functionality to existing code.\n",
    "Because a component of the program seeks to alter another part of the program at compile time, this is also known as metaprogramming."
   ]
  },
  {
   "cell_type": "code",
   "execution_count": 4,
   "id": "c95c215b",
   "metadata": {},
   "outputs": [
    {
     "name": "stdout",
     "output_type": "stream",
     "text": [
      "Incremented value is:\n",
      "11\n"
     ]
    }
   ],
   "source": [
    "def smart_increment(func):\n",
    "    def inner(a):\n",
    "        print(f\"Incremented value is:\")\n",
    "        return func(a)\n",
    "    return inner\n",
    "\n",
    "@smart_increment  # Decorator is used with @ sign\n",
    "def increment(a):\n",
    "    print(a+1)\n",
    "\n",
    "increment(10)"
   ]
  }
 ],
 "metadata": {
  "kernelspec": {
   "display_name": "Python 3",
   "language": "python",
   "name": "python3"
  },
  "language_info": {
   "codemirror_mode": {
    "name": "ipython",
    "version": 3
   },
   "file_extension": ".py",
   "mimetype": "text/x-python",
   "name": "python",
   "nbconvert_exporter": "python",
   "pygments_lexer": "ipython3",
   "version": "3.8.3"
  }
 },
 "nbformat": 4,
 "nbformat_minor": 5
}
