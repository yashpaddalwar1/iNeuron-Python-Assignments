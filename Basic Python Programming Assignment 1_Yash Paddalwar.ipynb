{
 "cells": [
  {
   "cell_type": "markdown",
   "id": "c81e163d",
   "metadata": {},
   "source": [
    "# *Author: Yash Ajit Paddalwar*\n",
    "# *Email ID: yash9096.p@gmail.com*"
   ]
  },
  {
   "cell_type": "markdown",
   "id": "e0462f97",
   "metadata": {},
   "source": [
    "## 1. Write a Python program to print &quot;Hello Python&quot;?"
   ]
  },
  {
   "cell_type": "code",
   "execution_count": 2,
   "id": "2a832673",
   "metadata": {},
   "outputs": [
    {
     "name": "stdout",
     "output_type": "stream",
     "text": [
      "Hello Python\n"
     ]
    }
   ],
   "source": [
    "print('Hello Python')"
   ]
  },
  {
   "cell_type": "markdown",
   "id": "0e7e2559",
   "metadata": {},
   "source": [
    "## 2. Write a Python program to do arithmetical operations addition and division.?"
   ]
  },
  {
   "cell_type": "code",
   "execution_count": 7,
   "id": "5f46983f",
   "metadata": {},
   "outputs": [
    {
     "name": "stdout",
     "output_type": "stream",
     "text": [
      "Enter first number: 20\n",
      "Enter first number: 10\n",
      "Addition: 30\n",
      "Division: 2.0\n"
     ]
    }
   ],
   "source": [
    "num1 = int(input(\"Enter first number: \"))\n",
    "num2 = int(input(\"Enter first number: \"))\n",
    "\n",
    "# Performing Addition\n",
    "sum = num1 + num2\n",
    "print(\"Addition: {}\".format(sum))\n",
    "\n",
    "# Performing Division\n",
    "div = num1 / num2\n",
    "print(\"Division: {}\".format(div))"
   ]
  },
  {
   "cell_type": "markdown",
   "id": "c49cd5d9",
   "metadata": {},
   "source": [
    "## 3. Write a Python program to find the area of a triangle?"
   ]
  },
  {
   "cell_type": "code",
   "execution_count": 6,
   "id": "a249f0be",
   "metadata": {},
   "outputs": [
    {
     "name": "stdout",
     "output_type": "stream",
     "text": [
      "Enter Base: 10\n",
      "Enter Height: 10\n",
      "Area of Triangle is: 50.0\n"
     ]
    }
   ],
   "source": [
    "# We know that area of triangle is half of the product of it's base and height\n",
    "\n",
    "base = float(input(\"Enter Base: \"))\n",
    "height = float(input(\"Enter Height: \"))\n",
    "\n",
    "# Applying the Logic\n",
    "area_of_triangle = (0.5)*base*height\n",
    "print(\"Area of Triangle is:\",area_of_triangle)"
   ]
  },
  {
   "cell_type": "markdown",
   "id": "b840ccaf",
   "metadata": {},
   "source": [
    "## 4. Write a Python program to swap two variables?"
   ]
  },
  {
   "cell_type": "code",
   "execution_count": 1,
   "id": "4319cfe5",
   "metadata": {},
   "outputs": [
    {
     "name": "stdout",
     "output_type": "stream",
     "text": [
      "Enter first variable: 5463\n",
      "Enter second variable: 10000\n",
      "Before Swapping\n",
      "First variable: 5463\n",
      "Second variable: 10000\n",
      "After Swapping: \n",
      "First variable: 10000\n",
      "Second variable: 5463\n"
     ]
    }
   ],
   "source": [
    "# Swapping of two variables\n",
    "\n",
    "a = int(input(\"Enter first variable: \"))\n",
    "b = int(input(\"Enter second variable: \"))\n",
    "\n",
    "print(\"Before Swapping\")\n",
    "print(\"First variable: {}\".format(a))\n",
    "print(\"Second variable: {}\".format(b))\n",
    "\n",
    "# Logic\n",
    "a,b = b,a\n",
    "\n",
    "print(\"After Swapping: \")\n",
    "print(\"First variable: {}\".format(a))\n",
    "print(\"Second variable: {}\".format(b))"
   ]
  },
  {
   "cell_type": "markdown",
   "id": "1ab93859",
   "metadata": {},
   "source": [
    "## 5. Write a Python program to generate a random number?"
   ]
  },
  {
   "cell_type": "code",
   "execution_count": 21,
   "id": "cf29c9fb",
   "metadata": {},
   "outputs": [
    {
     "name": "stdout",
     "output_type": "stream",
     "text": [
      "Randomly generated variable is: 950\n"
     ]
    }
   ],
   "source": [
    "import random\n",
    "print(\"Randomly generated variable is: {}\".format(random.randrange(1,1000)))"
   ]
  }
 ],
 "metadata": {
  "kernelspec": {
   "display_name": "Python 3",
   "language": "python",
   "name": "python3"
  },
  "language_info": {
   "codemirror_mode": {
    "name": "ipython",
    "version": 3
   },
   "file_extension": ".py",
   "mimetype": "text/x-python",
   "name": "python",
   "nbconvert_exporter": "python",
   "pygments_lexer": "ipython3",
   "version": "3.8.3"
  }
 },
 "nbformat": 4,
 "nbformat_minor": 5
}
