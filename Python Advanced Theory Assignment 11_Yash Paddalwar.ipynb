{
 "cells": [
  {
   "cell_type": "markdown",
   "id": "b9f05958",
   "metadata": {},
   "source": [
    "# *Author: Yash Ajit Paddalwar*\n",
    "# *Email ID: yash9096.p@gmail.com*"
   ]
  },
  {
   "cell_type": "markdown",
   "id": "91c66a0e",
   "metadata": {},
   "source": [
    "# Q1. What is the concept of a metaclass?\n",
    "#### Solution:\n",
    "A metaclass in Python is a class of a class that defines how a class behaves. A class is itself an instance of a metaclass. A class in Python defines how the instance of the class will behave. In order to understand metaclasses well, one needs to have prior experience working with Python classes.\n",
    "\n",
    "# Q2. What is the best way to declare a class&#39;s metaclass?\n",
    "#### Solution:\n",
    "In Python, we can customize the class creation process by passing the metaclass keyword in the class definition. This can also be done by inheriting a class that has already passed in this keyword. We can see below that the type of MyMeta class is type and that the type of MyClass and MySubClass is MyMeta .\n",
    "\n",
    "# Q3. How do class decorators overlap with metaclasses for handling classes?\n",
    "#### Solution:\n",
    "Decorators can be used to manage both instances and classes, and they intersect with metaclasses in the second of these roles.\n",
    "\n",
    "# Q4. How do class decorators overlap with metaclasses for handling instances?\n",
    "#### Solution:\n",
    "Decorators can be used to manage both instances and classes, and they intersect with metaclasses in the second of these roles.\n",
    "\n",
    "\n",
    "\n",
    "\n"
   ]
  }
 ],
 "metadata": {
  "kernelspec": {
   "display_name": "Python 3",
   "language": "python",
   "name": "python3"
  },
  "language_info": {
   "codemirror_mode": {
    "name": "ipython",
    "version": 3
   },
   "file_extension": ".py",
   "mimetype": "text/x-python",
   "name": "python",
   "nbconvert_exporter": "python",
   "pygments_lexer": "ipython3",
   "version": "3.8.3"
  }
 },
 "nbformat": 4,
 "nbformat_minor": 5
}
