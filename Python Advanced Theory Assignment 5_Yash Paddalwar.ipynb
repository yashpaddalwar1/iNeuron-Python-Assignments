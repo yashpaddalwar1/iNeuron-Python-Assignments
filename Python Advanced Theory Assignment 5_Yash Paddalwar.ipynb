{
 "cells": [
  {
   "cell_type": "markdown",
   "id": "02a5c7c4",
   "metadata": {},
   "source": [
    "# *Author: Yash Ajit Paddalwar*\n",
    "# *Email ID: yash9096.p@gmail.com*"
   ]
  },
  {
   "cell_type": "markdown",
   "id": "3e0cd134",
   "metadata": {},
   "source": [
    "# Q1. What is the meaning of multiple inheritance?\n",
    "#### Solution:\n",
    "When a class is derived from more than one base class it is called multiple Inheritance. Python supports multiple inheritance by using the concept of first come first serve which means whatever class name is defined in the first position in the argument list will be treated as parent class\n",
    "\n",
    "# Q2. What is the concept of delegation?\n",
    "#### Solution:\n",
    "The delegation pattern is an object-oriented design pattern that allows object composition to achieve the same code reuse as inheritance.\n",
    "\n",
    "# Q3. What is the concept of composition?\n",
    "#### Solution:\n",
    "Composition is a concept that models a has a relationship. It enables creating complex types by combining objects of other types. This means that a class Composite can contain an object of another class Component . This relationship means that a Composite has a Component .\n",
    "\n",
    "# Q4. What are bound methods and how do we use them?\n",
    "#### Solution:\n",
    "A bound method is the one which is dependent on the instance of the class as the first argument. It passes the instance as the first argument which is used to access the variables and functions. In Python 3 and newer versions of python, all functions in the class are by default bound methods.\n",
    "\n",
    "# Q5. What is the purpose of pseudoprivate attributes?\n",
    "#### Solution:\n",
    "This is sometimes misleadingly called private attributes really, it's just a way to localize a name to the class that created it, and does not prevent access by code outside the class. That is, this feature is mostly intended to avoid namespace collisions in instances, not to restrict access to names in general.\n"
   ]
  }
 ],
 "metadata": {
  "kernelspec": {
   "display_name": "Python 3",
   "language": "python",
   "name": "python3"
  },
  "language_info": {
   "codemirror_mode": {
    "name": "ipython",
    "version": 3
   },
   "file_extension": ".py",
   "mimetype": "text/x-python",
   "name": "python",
   "nbconvert_exporter": "python",
   "pygments_lexer": "ipython3",
   "version": "3.8.3"
  }
 },
 "nbformat": 4,
 "nbformat_minor": 5
}
