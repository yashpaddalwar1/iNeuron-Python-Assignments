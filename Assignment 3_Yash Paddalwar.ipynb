{
 "cells": [
  {
   "cell_type": "markdown",
   "id": "7e1311ef",
   "metadata": {},
   "source": [
    "# *Author: Yash Ajit Paddalwar*\n",
    "# *Email ID: yash9096.p@gmail.com*"
   ]
  },
  {
   "cell_type": "markdown",
   "id": "3b75be44",
   "metadata": {},
   "source": [
    "## 1. Why are functions advantageous to have in your programs?\n",
    "**Solution:**\n",
    "Functions can result in code reusability. \n",
    "This makes programs shorter, easier to read, and easier to update."
   ]
  },
  {
   "cell_type": "markdown",
   "id": "7aa9302e",
   "metadata": {},
   "source": [
    "## 2. When does the code in a function run: when it&#39;s specified or when it&#39;s called?\n",
    "**Solution:**\n",
    "Whenever the function is called then only the code inside the function will start executing."
   ]
  },
  {
   "cell_type": "markdown",
   "id": "1b3fcf49",
   "metadata": {},
   "source": [
    "## 3. What statement creates a function?\n",
    "**Solution:**\n",
    "The “def” keyword is a statement for defining a function in Python. You start a function with the def keyword, specify a name followed by a colon (:) sign. The “def” call creates the function object and assigns it to the name given. You can further re-assign the same function object to other names."
   ]
  },
  {
   "cell_type": "markdown",
   "id": "fc6ad2ce",
   "metadata": {},
   "source": [
    "## 4. What is the difference between a function and a function call?\n",
    "**Solution:**\n",
    "The difference between the function and function call is, A function is procedure to achieve a particular result while function call is using this function to achieve that task."
   ]
  },
  {
   "cell_type": "markdown",
   "id": "01bdf852",
   "metadata": {},
   "source": [
    "## 5. How many global scopes are there in a Python program? How many local scopes?\n",
    "**Solution:**\n",
    "There's only one global Python scope per program execution. This scope remains in existence until the program terminates and all its names are forgotten.\n",
    "Local scopes are enclosed between a function or a class."
   ]
  },
  {
   "cell_type": "markdown",
   "id": "35615557",
   "metadata": {},
   "source": [
    "## 6. What happens to variables in a local scope when the function call returns?\n",
    "**Solution:**\n",
    "When the execution of the function terminates (returns), the local variables are destroyed and the returned value will be global."
   ]
  },
  {
   "cell_type": "markdown",
   "id": "f89d1301",
   "metadata": {},
   "source": [
    "## 7. What is the concept of a return value? Is it possible to have a return value in an expression?\n",
    "**Solution:**\n",
    "A return statement is used to end the execution of the function call and “returns” the result (value of the expression following the return keyword) to the caller. The statements after the return statements are not executed. If the return statement is without any expression, then the special value None is returned."
   ]
  },
  {
   "cell_type": "markdown",
   "id": "0930932b",
   "metadata": {},
   "source": [
    "## 8. If a function does not have a return statement, what is the return value of a call to that function?\n",
    "**Solution:**\n",
    "If expression is omitted, the return value of the function is undefined. ... If no return statement appears in a function definition, control automatically returns to the calling function after the last statement of the called function is executed. In this case, the return value of the called function is undefined."
   ]
  },
  {
   "cell_type": "markdown",
   "id": "30f9cdd8",
   "metadata": {},
   "source": [
    "## 9. How do you make a function variable refer to the global variable?\n",
    "**Solution:**\n",
    "If you want to refer to a global variable in a function, you can use the global keyword to declare which variables are global."
   ]
  },
  {
   "cell_type": "markdown",
   "id": "056a050a",
   "metadata": {},
   "source": [
    "## 10. What is the data type of None?\n",
    "**Solution:**\n",
    "The None keyword is used to define a null value, or no value at all. None is not the same as 0, False, or an empty string. None is a data type of its own (NoneType) and only None can be None."
   ]
  },
  {
   "cell_type": "markdown",
   "id": "2e26fb2c",
   "metadata": {},
   "source": [
    "## 11. What does the sentence import areallyourpetsnamederic do?\n",
    "**Solution:**\n",
    "That import statement imports a module named areallyourpetsnamederic."
   ]
  },
  {
   "cell_type": "markdown",
   "id": "3d436436",
   "metadata": {},
   "source": [
    "## 12. If you had a bacon() feature in a spam module, what would you call it after importing spam?\n",
    "**Solution:**\n",
    "This function can be called with spam. bacon()."
   ]
  },
  {
   "cell_type": "markdown",
   "id": "7b5a1f64",
   "metadata": {},
   "source": [
    "## 13. What can you do to save a programme from crashing if it encounters an error?\n",
    "**Solution:**\n",
    "We can use Try Except block in python to handle the error."
   ]
  },
  {
   "cell_type": "markdown",
   "id": "11f414d2",
   "metadata": {},
   "source": [
    "## 14. What is the purpose of the try clause? What is the purpose of the except clause?\n",
    "**Solution:**\n",
    "The try block allows you to test a block of code for errors. The except block enables you to handle the error with a user-defined response."
   ]
  }
 ],
 "metadata": {
  "kernelspec": {
   "display_name": "Python 3",
   "language": "python",
   "name": "python3"
  },
  "language_info": {
   "codemirror_mode": {
    "name": "ipython",
    "version": 3
   },
   "file_extension": ".py",
   "mimetype": "text/x-python",
   "name": "python",
   "nbconvert_exporter": "python",
   "pygments_lexer": "ipython3",
   "version": "3.8.3"
  }
 },
 "nbformat": 4,
 "nbformat_minor": 5
}
