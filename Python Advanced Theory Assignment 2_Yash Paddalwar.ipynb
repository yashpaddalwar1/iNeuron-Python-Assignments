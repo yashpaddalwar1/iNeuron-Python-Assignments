{
 "cells": [
  {
   "cell_type": "markdown",
   "id": "dce2d27c",
   "metadata": {},
   "source": [
    "# *Author: Yash Ajit Paddalwar*\n",
    "# *Email ID: yash9096.p@gmail.com*"
   ]
  },
  {
   "cell_type": "markdown",
   "id": "ede0cc79",
   "metadata": {},
   "source": [
    "# Q1. What is the relationship between classes and modules?\n",
    "#### Solution:\n",
    "The difference between a class and a module in python is that a class is used to define a blueprint for a given object, whereas a module is used to reuse a given piece of code inside another program.\n",
    "\n",
    "# Q2. How do you make instances and classes?\n",
    "#### Solution:\n",
    "To create instances of a class, you call the class using class name and pass in whatever arguments its __init__ method accepts.\n",
    "\n",
    "# Q3. Where and how should be class attributes created?\n",
    "#### Solution:\n",
    "Class attributes belong to the class itself they will be shared by all the instances. Such attributes are defined in the class body parts usually at the top, for legibility. Unlike class attributes, instance attributes are not shared by objects.\n",
    "\n",
    "# Q4. Where and how are instance attributes created?\n",
    "#### Solution:\n",
    "An instance attribute is a Python variable belonging to one, and only one, object. This variable is only accessible in the scope of this object and it is defined inside the constructor function, __init__(self,..) of the class.\n",
    "\n",
    "# Q5. What does the term &quot;self&quot; in a Python class mean?\n",
    "#### Solution:\n",
    "self represents the instance of the class. By using the “self” we can access the attributes and methods of the class in python. It binds the attributes with the given arguments. The reason you need to use self. is because Python does not use the @ syntax to refer to instance attributes.\n",
    "\n",
    "# Q6. How does a Python class handle operator overloading?\n",
    "#### Solution:\n",
    "Operator Overloading means giving extended meaning beyond their predefined operational meaning. For example operator + is used to add two integers as well as join two strings and merge two lists. It is achievable because '+' operator is overloaded by int class and str class.\n",
    "\n",
    "# Q7. When do you consider allowing operator overloading of your classes?\n",
    "#### Solution:\n",
    "Operator Overloading means giving extended meaning beyond their predefined operational meaning. For example operator + is used to add two integers as well as join two strings and merge two lists. It is achievable because ‘+’ operator is overloaded by int class and str class. You might have noticed that the same built-in operator or function shows different behavior for objects of different classes, this is called Operator Overloading\n",
    "\n",
    "# Q8. What is the most popular form of operator overloading?\n",
    "#### Solution:\n",
    "A very popular and convenient example is the Addition (+) operator. Just think how the '+' operator operates on two numbers and the same operator operates on two strings. It performs “Addition” on numbers whereas it performs “Concatenation” on strings.\n",
    "\n",
    "# Q9. What are the two most important concepts to grasp in order to comprehend Python OOP code?\n",
    "#### Solution:\n",
    "In this article, we will elaborate on two key concepts of OOP which are inheritance and polymorphism. Both inheritance and polymorphism are key ingredients for designing robust, flexible, and easy-to-maintain software."
   ]
  }
 ],
 "metadata": {
  "kernelspec": {
   "display_name": "Python 3",
   "language": "python",
   "name": "python3"
  },
  "language_info": {
   "codemirror_mode": {
    "name": "ipython",
    "version": 3
   },
   "file_extension": ".py",
   "mimetype": "text/x-python",
   "name": "python",
   "nbconvert_exporter": "python",
   "pygments_lexer": "ipython3",
   "version": "3.8.3"
  }
 },
 "nbformat": 4,
 "nbformat_minor": 5
}
