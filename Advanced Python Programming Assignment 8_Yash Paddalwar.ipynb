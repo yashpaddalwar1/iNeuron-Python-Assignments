{
 "cells": [
  {
   "cell_type": "markdown",
   "id": "bb36452d",
   "metadata": {},
   "source": [
    "# *Author: Yash Ajit Paddalwar*\n",
    "# *Email ID: yash9096.p@gmail.com*"
   ]
  },
  {
   "cell_type": "markdown",
   "id": "453a3b6f",
   "metadata": {},
   "source": [
    "# 1\n",
    "1. Given a sentence as txt, return True if any two adjacent words have this\n",
    "property: One word ends with a vowel, while the word immediately after\n",
    "begins with a vowel (a e i o u).\n",
    "Examples\n",
    "vowel_links(&quot;a very large appliance&quot;) ➞ True\n",
    "vowel_links(&quot;go to edabit&quot;) ➞ True\n",
    "vowel_links(&quot;an open fire&quot;) ➞ False\n",
    "vowel_links(&quot;a sudden applause&quot;) ➞ False"
   ]
  },
  {
   "cell_type": "code",
   "execution_count": 10,
   "id": "41956129",
   "metadata": {},
   "outputs": [
    {
     "data": {
      "text/plain": [
       "True"
      ]
     },
     "execution_count": 10,
     "metadata": {},
     "output_type": "execute_result"
    }
   ],
   "source": [
    "def vowel_links(string):\n",
    "    lst = list(string.split(\" \"))\n",
    "    vowels = ['a','e','i','o','u']\n",
    "    for i in range(len(lst) - 1):\n",
    "        if lst[i][-1] in vowels and lst[i+1][0] in vowels:\n",
    "            return True\n",
    "    return False\n",
    "\n",
    "vowel_links(\"a very large appliance\")"
   ]
  },
  {
   "cell_type": "markdown",
   "id": "1c03bb2e",
   "metadata": {},
   "source": [
    "# 2\n",
    "2. You are given three inputs: a string, one letter, and a second letter.\n",
    "Write a function that returns True if every instance of the first letter occurs\n",
    "before every instance of the second letter.\n",
    "Examples\n",
    "first_before_second(&quot;a rabbit jumps joyfully&quot;, &quot;a&quot;, &quot;j&quot;) ➞ True\n",
    "#. Every instance of &quot;a&quot; occurs before every instance of &quot;j&quot;.\n",
    "first_before_second(&quot;knaves knew about waterfalls&quot;, &quot;k&quot;, &quot;w&quot;) ➞ True\n",
    "first_before_second(&quot;happy birthday&quot;, &quot;a&quot;, &quot;y&quot;) ➞ False\n",
    "#. The &quot;a&quot; in &quot;birthday&quot; occurs after the &quot;y&quot; in &quot;happy&quot;.\n",
    "first_before_second(&quot;precarious kangaroos&quot;, &quot;k&quot;, &quot;a&quot;) ➞ False"
   ]
  },
  {
   "cell_type": "code",
   "execution_count": 84,
   "id": "2c6161b8",
   "metadata": {},
   "outputs": [
    {
     "data": {
      "text/plain": [
       "False"
      ]
     },
     "execution_count": 84,
     "metadata": {},
     "output_type": "execute_result"
    }
   ],
   "source": [
    "def first_before_second(string,first,second):\n",
    "    for i in range(len(string)):\n",
    "        if string[i] == first:\n",
    "            if second not in string[0:i]:\n",
    "                pass\n",
    "            else:\n",
    "                return False\n",
    "    return True\n",
    "\n",
    "first_before_second(\"precarious kangaroos\", \"k\", \"a\")"
   ]
  },
  {
   "cell_type": "markdown",
   "id": "4ac97daa",
   "metadata": {},
   "source": [
    "# 3\n",
    "3. Create a function that returns the characters from a list or string r on odd or\n",
    "even positions, depending on the specifier s. The specifier will be &quot;odd&quot; for\n",
    "items on odd positions (1, 3, 5, ...) and &quot;even&quot; for items on even positions (2,\n",
    "4, 6, ...).\n",
    "Examples\n",
    "char_at_pos([2, 4, 6, 8, 10], &quot;even&quot;) ➞ [4, 8]\n",
    "#. 4 &amp; 8 occupy the 2nd &amp; 4th positions\n",
    "char_at_pos(&quot;EDABIT&quot;, &quot;odd&quot;) ➞ &quot;EAI&quot;\n",
    "#. &quot;E&quot;, &quot;A&quot; and &quot;I&quot; occupy the 1st, 3rd and 5th positions\n",
    "\n",
    "char_at_pos([&quot;A&quot;, &quot;R&quot;, &quot;B&quot;, &quot;I&quot;, &quot;T&quot;, &quot;R&quot;, &quot;A&quot;, &quot;R&quot;, &quot;I&quot;, &quot;L&quot;, &quot;Y&quot;], &quot;odd&quot;) ➞ [&quot;A&quot;,\n",
    "&quot;B&quot;, &quot;T&quot;, &quot;A&quot;, &quot;I&quot;, &quot;Y&quot;]"
   ]
  },
  {
   "cell_type": "code",
   "execution_count": 92,
   "id": "793360fd",
   "metadata": {},
   "outputs": [
    {
     "data": {
      "text/plain": [
       "['A', 'B', 'T', 'A', 'I', 'Y']"
      ]
     },
     "execution_count": 92,
     "metadata": {},
     "output_type": "execute_result"
    }
   ],
   "source": [
    "def char_at_pos(str_or_lst,specifier):\n",
    "    final = []\n",
    "    if specifier == \"odd\":\n",
    "        for i in range(len(str_or_lst)):\n",
    "            if i % 2 == 0:\n",
    "                final.append(str_or_lst[i])\n",
    "    else:\n",
    "        for i in range(len(str_or_lst)):\n",
    "            if i % 2 != 0:\n",
    "                final.append(str_or_lst[i])\n",
    "    if type(str_or_lst) == str:\n",
    "        return ' '.join(final)\n",
    "    else:\n",
    "        return final\n",
    "    \n",
    "char_at_pos([\"A\", \"R\", \"B\", \"I\", \"T\", \"R\", \"A\", \"R\", \"I\", \"L\", \"Y\"], \"odd\")"
   ]
  },
  {
   "cell_type": "markdown",
   "id": "a382fee6",
   "metadata": {},
   "source": [
    "# 4\n",
    "4. Write a function that returns the greatest common divisor of all list\n",
    "elements. If the greatest common divisor is 1, return 1.\n",
    "Examples\n",
    "GCD([10, 20, 40]) ➞ 10\n",
    "GCD([1, 2, 3, 100]) ➞ 1\n",
    "GCD([1024, 192, 2048, 512]) ➞ 64"
   ]
  },
  {
   "cell_type": "code",
   "execution_count": 99,
   "id": "aba7204d",
   "metadata": {},
   "outputs": [
    {
     "data": {
      "text/plain": [
       "10"
      ]
     },
     "execution_count": 99,
     "metadata": {},
     "output_type": "execute_result"
    }
   ],
   "source": [
    "def GCD(lst):\n",
    "    minimum = min(lst)\n",
    "    while(minimum != 0):\n",
    "        for i in lst:\n",
    "            if (i % minimum == 0) and (lst.index(i) == len(lst) - 1):\n",
    "                return minimum\n",
    "            if i % minimum == 0:\n",
    "                pass\n",
    "            else:\n",
    "                minimum = minimum - 1\n",
    "\n",
    "GCD([10, 20, 40])"
   ]
  },
  {
   "cell_type": "markdown",
   "id": "3c0a38e5",
   "metadata": {},
   "source": [
    "# 5\n",
    "5. A number/string is a palindrome if the digits/characters are the same when\n",
    "read both forward and backward. Examples include &quot;racecar&quot; and 12321.\n",
    "Given a positive number n, check if n or the binary representation of n is\n",
    "palindromic. Return the following:\n",
    "- &quot;Decimal only.&quot; if only n is a palindrome.\n",
    "- &quot;Binary only.&quot; if only the binary representation of n is a palindrome.\n",
    "- &quot;Decimal and binary.&quot; if both are palindromes.\n",
    "- &quot;Neither!&quot; if neither are palindromes.\n",
    "Examples\n",
    "palindrome_type(1306031) ➞ &quot;Decimal only.&quot;\n",
    "#. decimal = 1306031\n",
    "#. binary = &quot;100111110110110101111&quot;\n",
    "palindrome_type(427787) ➞ &quot;Binary only.&quot;\n",
    "#. decimal = 427787\n",
    "#. binary = &quot;1101000011100001011&quot;\n",
    "palindrome_type(313) ➞ &quot;Decimal and binary.&quot;\n",
    "#. decimal = 313\n",
    "#. binary = 100111001\n",
    "palindrome_type(934) ➞ &quot;Neither!&quot;\n",
    "#. decimal = 934\n",
    "#. binary = &quot;1110100110&quot;"
   ]
  },
  {
   "cell_type": "code",
   "execution_count": 109,
   "id": "ca7f7a3c",
   "metadata": {},
   "outputs": [
    {
     "data": {
      "text/plain": [
       "'Decimal and binary.'"
      ]
     },
     "execution_count": 109,
     "metadata": {},
     "output_type": "execute_result"
    }
   ],
   "source": [
    "def palindrome_type(n):\n",
    "    if str(n) == str(n)[::-1] and (str((bin(n))[2:]) == str((bin(n))[2:])[::-1]):\n",
    "        return \"Decimal and binary.\"\n",
    "    elif str(n) != str(n)[::-1] and (str((bin(n))[2:]) == str((bin(n))[2:])[::-1]):\n",
    "        return \"Binary only.\"\n",
    "    elif str(n) == str(n)[::-1] and (str((bin(n))[2:]) != str((bin(n))[2:])[::-1]):\n",
    "        return \"Decimal only.\"\n",
    "    else:\n",
    "        return \"Neither!\"\n",
    "    \n",
    "palindrome_type(313)"
   ]
  }
 ],
 "metadata": {
  "kernelspec": {
   "display_name": "Python 3",
   "language": "python",
   "name": "python3"
  },
  "language_info": {
   "codemirror_mode": {
    "name": "ipython",
    "version": 3
   },
   "file_extension": ".py",
   "mimetype": "text/x-python",
   "name": "python",
   "nbconvert_exporter": "python",
   "pygments_lexer": "ipython3",
   "version": "3.8.3"
  }
 },
 "nbformat": 4,
 "nbformat_minor": 5
}
