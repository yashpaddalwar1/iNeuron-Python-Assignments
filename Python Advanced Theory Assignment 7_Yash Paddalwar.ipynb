{
 "cells": [
  {
   "cell_type": "markdown",
   "id": "8ce8b331",
   "metadata": {},
   "source": [
    "# *Author: Yash Ajit Paddalwar*\n",
    "# *Email ID: yash9096.p@gmail.com*"
   ]
  },
  {
   "cell_type": "markdown",
   "id": "fab9cd17",
   "metadata": {},
   "source": [
    "# Q1. What is the purpose of the try statement?\n",
    "#### Solution:\n",
    "Try statement is used to check for exception that may occur in the program\n",
    "\n",
    "# Q2. What are the two most popular try statement variations?\n",
    "#### Solution:\n",
    "Error in Python can be of two types i.e. Syntax errors and Exceptions.\n",
    "\n",
    "# Q3. What is the purpose of the raise statement?\n",
    "#### Solution:\n",
    "Python raise Keyword is used to raise exceptions or errors. The raise keyword raises an error and stops the control flow of the program. It is used to bring up the current exception in an exception handler so that it can be handled further up the call stack.\n",
    "\n",
    "# Q4. What does the assert statement do, and what other statement is it like?\n",
    "#### Solution:\n",
    "assert statement takes an expression and optional message. assert statement is used to check types, values of argument and the output of the function. assert statement is used as debugging tool as it halts the program at the point where an error occurs.\n",
    "\n",
    "# Q5. What is the purpose of the with/as argument, and what other statement is it like?:\n",
    "#### Solution\n",
    "In python the with keyword is used when working with unmanaged resources (like file streams). It is similar to the using statement in VB.NET and C#. It allows you to ensure that a resource is \"cleaned up\" when the code that uses it finishes running, even if exceptions are thrown.\n"
   ]
  }
 ],
 "metadata": {
  "kernelspec": {
   "display_name": "Python 3",
   "language": "python",
   "name": "python3"
  },
  "language_info": {
   "codemirror_mode": {
    "name": "ipython",
    "version": 3
   },
   "file_extension": ".py",
   "mimetype": "text/x-python",
   "name": "python",
   "nbconvert_exporter": "python",
   "pygments_lexer": "ipython3",
   "version": "3.8.3"
  }
 },
 "nbformat": 4,
 "nbformat_minor": 5
}
