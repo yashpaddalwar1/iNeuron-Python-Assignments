{
 "cells": [
  {
   "cell_type": "markdown",
   "id": "95d0b2ed",
   "metadata": {},
   "source": [
    "# *Author: Yash Ajit Paddalwar*\n",
    "# *Email ID: yash9096.p@gmail.com*"
   ]
  },
  {
   "cell_type": "markdown",
   "id": "68ca9281",
   "metadata": {},
   "source": [
    "# Q1. What are the two latest user-defined exception constraints in Python 3.X?\n",
    "#### Solution:\n",
    "User defined exceptions in python are created by programmers to enforce constraints on the values which the variables in the program can take. Python has many built in exceptions which are raised when there is some error in the program.\n",
    "\n",
    "# Q2. How are class-based exceptions that have been raised matched to handlers?\n",
    "#### Solution:\n",
    "Class-based exceptions are raised either by the ABAP runtime environment or by a program. Exception situations recognized by the system, and whose causes can be handled in the program, raise predefined class-based exceptions.\n",
    "\n",
    "# Q3. Describe two methods for attaching context information to exception artefacts.\n",
    "#### Solution:\n",
    "Use the raise keyword to throw an exception with a custom error message. Use the syntax raise Exception(error_message) to throw an Exception with the message error_message . Furhter Reading There are other types of errors such as ValueError or RuntimeError . Read more about types of errors here.\n",
    "\n",
    "# Q4. Describe two methods for specifying the text of an exception object&#39;s error message.\n",
    "#### Solution:\n",
    "Use except Exception as to catch an exception and save its error message. Place the code where the exception may occur in a try block. Immediately after the try block, make an except block with except Exception as e to handle any exceptions that occur where e is the exception object, which can be printed.\n",
    "\n",
    "# Q5. Why do you no longer use string-based exceptions?\n",
    "#### Solution:\n",
    "String based exceptions are outdated and instead of that a try block allows you to handle an expected error. The except block should only catch exceptions you are prepared to handle. If you handle an unexpected error, your code may do the wrong thing and hide bugs."
   ]
  }
 ],
 "metadata": {
  "kernelspec": {
   "display_name": "Python 3",
   "language": "python",
   "name": "python3"
  },
  "language_info": {
   "codemirror_mode": {
    "name": "ipython",
    "version": 3
   },
   "file_extension": ".py",
   "mimetype": "text/x-python",
   "name": "python",
   "nbconvert_exporter": "python",
   "pygments_lexer": "ipython3",
   "version": "3.8.3"
  }
 },
 "nbformat": 4,
 "nbformat_minor": 5
}
