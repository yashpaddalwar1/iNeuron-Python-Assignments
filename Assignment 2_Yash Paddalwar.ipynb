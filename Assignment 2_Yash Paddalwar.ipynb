{
 "cells": [
  {
   "cell_type": "markdown",
   "id": "33176c7a",
   "metadata": {},
   "source": [
    "# *Author: Yash Ajit Paddalwar*\n",
    "# *Email ID: yash9096.p@gmail.com*"
   ]
  },
  {
   "cell_type": "markdown",
   "id": "8d50ceae",
   "metadata": {},
   "source": [
    "## 1.What are the two values of the Boolean data type? How do you write them?\n",
    "\n",
    "**Solution:** \n",
    "Python boolean type is one of the built-in data types provided by Python, which represents one of the two values i.e. True or False. Generally, it is used to represent the truth values of the expressions. For example, 1== 0 is True whereas 2<1 is False."
   ]
  },
  {
   "cell_type": "markdown",
   "id": "b778b552",
   "metadata": {},
   "source": [
    "## 2. What are the three different types of Boolean operators?\n",
    "\n",
    "**Solution:**\n",
    "\n",
    "The three different types of Boolean Operators are AND, OR and NOT."
   ]
  },
  {
   "cell_type": "markdown",
   "id": "016863f1",
   "metadata": {},
   "source": [
    "## 3. Make a list of each Boolean operator&#39;s truth tables (i.e. every possible combination of Boolean values for the operator and what it evaluate ).\n",
    "\n",
    "**Solution:**\n",
    "\n",
    "      AND:                     OR:                   NOT:\n",
    "    A     B   Output        A      B   Output     A      Output\n",
    "\n",
    "    0     0     0           0      0      0       0       1    \n",
    "\n",
    "    0     1     0           0      1      1       1       0\n",
    "\n",
    "    1     0     0           1      0      1       \n",
    "\n",
    "    1     1     1           1      1      1       "
   ]
  },
  {
   "cell_type": "markdown",
   "id": "627399e4",
   "metadata": {},
   "source": [
    "## 4. What are the values of the following expressions?\n",
    "\n",
    "(5 &gt; 4) and (3 == 5)\n",
    "\n",
    "not (5 &gt; 4)\n",
    "\n",
    "(5 &gt; 4) or (3 == 5)\n",
    "\n",
    "not ((5 &gt; 4) or (3 == 5))\n",
    "\n",
    "(True and True) and (True == False)\n",
    "\n",
    "(not False) or (not True)\n",
    "\n",
    "**Solution:**\n",
    "\n",
    "    (5 &gt; 4) and (3 == 5)                ->   False\n",
    "\n",
    "    not (5 &gt; 4)                         ->   False\n",
    "\n",
    "    (5 &gt; 4) or (3 == 5)                 ->   True\n",
    "\n",
    "    not ((5 &gt; 4) or (3 == 5))           ->   False\n",
    "\n",
    "    (True and True) and (True == False)    ->   False\n",
    "\n",
    "    (not False) or (not True)              ->   True"
   ]
  },
  {
   "cell_type": "markdown",
   "id": "35673359",
   "metadata": {},
   "source": [
    "## 5. What are the six comparison operators?\n",
    "\n",
    "**Solution:**\n",
    "\n",
    "The Six Comparison operators are == (equal to), < (less than), <= (less than equal to), > (greater than), >= (greater than or equal to), != (not equal to)"
   ]
  },
  {
   "cell_type": "markdown",
   "id": "e1eb79cd",
   "metadata": {},
   "source": [
    "## 6. How do you tell the difference between the equal to and assignment operators?Describe a condition and when you would use one.\n",
    "\n",
    "**Solution:**\n",
    "\n",
    "Equal to operator is used when we compare between two entities and assignment operator is used for assigning a value to a variable.\n",
    "\n",
    "Condition Example for assignment operator: If we want to assign value 10 to a variable say \"a\", the in that case we can use assignment operator in this way: a = 10\n",
    "\n",
    "Condition Example for Equal to operator: If we want to compare between two values, let's say we want to compare whether 4 is equal to 5, then in that case we can use equal to operator in this way: 4 == 5 and the result of this will always be a boolean value i.e. either True or False."
   ]
  },
  {
   "cell_type": "markdown",
   "id": "70fb88f2",
   "metadata": {},
   "source": [
    "## 7. Identify the three blocks in this code:\n",
    "spam = 0\n",
    "\n",
    "if spam == 10:\n",
    "\n",
    "print(&#39;eggs&#39;)\n",
    "\n",
    "if spam &gt; 5:\n",
    "\n",
    "print(&#39;bacon&#39;)\n",
    "\n",
    "else:\n",
    "\n",
    "print(&#39;ham&#39;)\n",
    "\n",
    "print(&#39;spam&#39;)\n",
    "\n",
    "print(&#39;spam&#39;)\n",
    "\n",
    "**Solution:**"
   ]
  },
  {
   "cell_type": "code",
   "execution_count": null,
   "id": "2a2d5257",
   "metadata": {},
   "outputs": [],
   "source": [
    "spam = 0\n",
    "if spam == 10:        # First Block Starts\n",
    "    print('eggs')     # First Block Ends\n",
    "if spam > 5:          # Second Block Starts\n",
    "    print('bacon')    # Second Block Ends\n",
    "else:                 # Third Block Starts\n",
    "    print('ham')\n",
    "    print('spam')\n",
    "    print('spam')     # Third Block Ends"
   ]
  },
  {
   "cell_type": "markdown",
   "id": "000ef481",
   "metadata": {},
   "source": [
    "## 8. Write code that prints Hello if 1 is stored in spam, prints Howdy if 2 is stored in spam, and prints Greetings! if anything else is stored in spam."
   ]
  },
  {
   "cell_type": "code",
   "execution_count": null,
   "id": "bc9cfa27",
   "metadata": {},
   "outputs": [],
   "source": [
    "# Solution\n",
    "\n",
    "spam = 1\n",
    "\n",
    "if spam == 1:\n",
    "    print(\"Hello\")\n",
    "elif spam == 2:\n",
    "    print(\"Howdy\")\n",
    "else:\n",
    "    print(\"Greetings!\")"
   ]
  },
  {
   "cell_type": "markdown",
   "id": "0f2de3c5",
   "metadata": {},
   "source": [
    "## 9.If your programme is stuck in an endless loop, what keys you’ll press?\n",
    "\n",
    "**Solution:**\n",
    "\n",
    "We can press Ctrl+C for getting out that endless loop."
   ]
  },
  {
   "cell_type": "markdown",
   "id": "9bec2e39",
   "metadata": {},
   "source": [
    "## 10. How can you tell the difference between break and continue?\n",
    "\n",
    "**Solution:**\n",
    "\n",
    "The Python break statement stops the loop in which the statement is placed. A Python continue statement skips a single iteration in a loop. Both break and continue statements can be used in a for or a while loop."
   ]
  },
  {
   "cell_type": "markdown",
   "id": "e6e01635",
   "metadata": {},
   "source": [
    "## 11. In a for loop, what is the difference between range(10), range(0, 10), and range(0, 10, 1)?\n",
    "\n",
    "**Solution**\n",
    "\n",
    "There is no any difference between any of the three because the range for all the three is 0 to 10 and the step-size will be 1 for all."
   ]
  },
  {
   "cell_type": "markdown",
   "id": "5f897cec",
   "metadata": {},
   "source": [
    "## 12. Write a short program that prints the numbers 1 to 10 using a for loop. Then write an equivalent program that prints the numbers 1 to 10 using a while loop.\n",
    "\n",
    "**Solution:**"
   ]
  },
  {
   "cell_type": "code",
   "execution_count": null,
   "id": "6ffa7499",
   "metadata": {},
   "outputs": [],
   "source": [
    "# Using For Loop\n",
    "for i in range(1,11):\n",
    "    print(i)    \n",
    "    \n",
    "# Using While Loop\n",
    "count = 1\n",
    "while count <= 10:\n",
    "    print(count)\n",
    "    count += 1"
   ]
  },
  {
   "cell_type": "markdown",
   "id": "93d4c536",
   "metadata": {},
   "source": [
    "## 13. If you had a function named bacon() inside a module named spam, how would you call it after importing spam?\n",
    "\n",
    "**Solution:**\n",
    "\n",
    "The following can be the way to call it:\n",
    "\n",
    "import spam\n",
    "\n",
    "spam.bacon()"
   ]
  }
 ],
 "metadata": {
  "kernelspec": {
   "display_name": "Python 3",
   "language": "python",
   "name": "python3"
  },
  "language_info": {
   "codemirror_mode": {
    "name": "ipython",
    "version": 3
   },
   "file_extension": ".py",
   "mimetype": "text/x-python",
   "name": "python",
   "nbconvert_exporter": "python",
   "pygments_lexer": "ipython3",
   "version": "3.8.3"
  }
 },
 "nbformat": 4,
 "nbformat_minor": 5
}
