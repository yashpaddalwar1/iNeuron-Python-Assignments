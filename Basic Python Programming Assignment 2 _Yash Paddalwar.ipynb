{
 "cells": [
  {
   "cell_type": "markdown",
   "id": "1f4349df",
   "metadata": {},
   "source": [
    "# *Author: Yash Ajit Paddalwar*\n",
    "# *Email ID: yash9096.p@gmail.com*"
   ]
  },
  {
   "cell_type": "markdown",
   "id": "6a59393a",
   "metadata": {},
   "source": [
    "## 1. Write a Python program to convert kilometers to miles?"
   ]
  },
  {
   "cell_type": "code",
   "execution_count": 1,
   "id": "e18d3fa3",
   "metadata": {},
   "outputs": [
    {
     "name": "stdout",
     "output_type": "stream",
     "text": [
      "Enter the value in Kilometers: 10\n",
      "10.0 Km is equal to 6.213699999999999 Miles\n"
     ]
    }
   ],
   "source": [
    "Km = float(input(\"Enter the value in Kilometers: \"))\n",
    "\n",
    "# Converting Kilometer into Miles\n",
    "Km_to_Miles = 0.62137*Km\n",
    "\n",
    "print(\"{} Km is equal to {} Miles\".format(Km,Km_to_Miles))"
   ]
  },
  {
   "cell_type": "markdown",
   "id": "22876709",
   "metadata": {},
   "source": [
    "## 2. Write a Python program to convert Celsius to Fahrenheit?"
   ]
  },
  {
   "cell_type": "code",
   "execution_count": 3,
   "id": "35d5a39b",
   "metadata": {},
   "outputs": [
    {
     "name": "stdout",
     "output_type": "stream",
     "text": [
      "Enter the value in Celcius: 0\n",
      "0.0° Celcius is equal to 32.0° Fahrenheit\n"
     ]
    }
   ],
   "source": [
    "Celcius = float(input(\"Enter the value in Celcius: \"))\n",
    "\n",
    "# Converting Celcius to Fahrenheit\n",
    "Fahrenheit = Celcius*(9/5) + 32\n",
    "\n",
    "print(\"{}° Celcius is equal to {}° Fahrenheit\".format(Celcius,Fahrenheit))"
   ]
  },
  {
   "cell_type": "markdown",
   "id": "30d384c3",
   "metadata": {},
   "source": [
    "## 3. Write a Python program to display calendar?"
   ]
  },
  {
   "cell_type": "code",
   "execution_count": 6,
   "id": "64c3c387",
   "metadata": {},
   "outputs": [
    {
     "name": "stdout",
     "output_type": "stream",
     "text": [
      "Enter the year: 2021\n",
      "Enter the month number: 11\n",
      "The Subsequent Calendar is: \n",
      "   November 2021\n",
      "Mo Tu We Th Fr Sa Su\n",
      " 1  2  3  4  5  6  7\n",
      " 8  9 10 11 12 13 14\n",
      "15 16 17 18 19 20 21\n",
      "22 23 24 25 26 27 28\n",
      "29 30\n",
      "\n"
     ]
    }
   ],
   "source": [
    "year = int(input(\"Enter the year: \"))\n",
    "month = int(input(\"Enter the month number: \"))\n",
    "\n",
    "import calendar\n",
    "print(\"The Subsequent Calendar is: \")\n",
    "print(calendar.month(year,month))"
   ]
  },
  {
   "cell_type": "markdown",
   "id": "3fa56b04",
   "metadata": {},
   "source": [
    "## 4. Write a Python program to solve quadratic equation?"
   ]
  },
  {
   "cell_type": "code",
   "execution_count": 23,
   "id": "f48fe617",
   "metadata": {},
   "outputs": [
    {
     "name": "stdout",
     "output_type": "stream",
     "text": [
      "Enter the 1st Coefficient: 1\n",
      "Enter the 2nd Coefficient: 5\n",
      "Enter the 3rd Coefficient: 6\n",
      "The Roots of the given Quadratic Equation is: ((-3+0j), (-2+0j))\n"
     ]
    }
   ],
   "source": [
    "# import complex math module\n",
    "import cmath\n",
    "\n",
    "a = int(input(\"Enter the 1st Coefficient: \"))\n",
    "b = int(input(\"Enter the 2nd Coefficient: \"))\n",
    "c = int(input(\"Enter the 3rd Coefficient: \"))\n",
    "\n",
    "# calculate the discriminant\n",
    "d = (b**2) - (4*a*c)\n",
    "\n",
    "# find two solutions\n",
    "sol1 = (-b-cmath.sqrt(d))/(2*a)\n",
    "sol2 = (-b+cmath.sqrt(d))/(2*a)\n",
    "\n",
    "print(\"The Roots of the given Quadratic Equation is: ({}, {})\".format(sol1,sol2))"
   ]
  },
  {
   "cell_type": "markdown",
   "id": "edd8092b",
   "metadata": {},
   "source": [
    "## 5. Write a Python program to swap two variables without temp variable?"
   ]
  },
  {
   "cell_type": "code",
   "execution_count": 24,
   "id": "46667029",
   "metadata": {},
   "outputs": [
    {
     "name": "stdout",
     "output_type": "stream",
     "text": [
      "Enter First Variable: 10\n",
      "Enter Second Variable: 20\n",
      "Before Swapping\n",
      "First variable: 10\n",
      "Second variable: 20\n",
      "After Swapping: \n",
      "First variable: 20\n",
      "Second variable: 10\n"
     ]
    }
   ],
   "source": [
    "a = int(input(\"Enter First Variable: \")) \n",
    "b = int(input(\"Enter Second Variable: \")) \n",
    "\n",
    "print(\"Before Swapping\")\n",
    "print(\"First variable: {}\".format(a))\n",
    "print(\"Second variable: {}\".format(b))\n",
    "\n",
    "a = a + b\n",
    "b = a - b\n",
    "a = a - b\n",
    "\n",
    "print(\"After Swapping: \")\n",
    "print(\"First variable: {}\".format(a))\n",
    "print(\"Second variable: {}\".format(b))"
   ]
  }
 ],
 "metadata": {
  "kernelspec": {
   "display_name": "Python 3",
   "language": "python",
   "name": "python3"
  },
  "language_info": {
   "codemirror_mode": {
    "name": "ipython",
    "version": 3
   },
   "file_extension": ".py",
   "mimetype": "text/x-python",
   "name": "python",
   "nbconvert_exporter": "python",
   "pygments_lexer": "ipython3",
   "version": "3.8.3"
  }
 },
 "nbformat": 4,
 "nbformat_minor": 5
}
