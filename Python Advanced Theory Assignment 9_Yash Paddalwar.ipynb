{
 "cells": [
  {
   "cell_type": "markdown",
   "id": "770acf72",
   "metadata": {},
   "source": [
    "# *Author: Yash Ajit Paddalwar*\n",
    "# *Email ID: yash9096.p@gmail.com*"
   ]
  },
  {
   "cell_type": "markdown",
   "id": "da5ab37b",
   "metadata": {},
   "source": [
    "# Q1. In Python 3.X, what are the names and functions of string object types?\n",
    "#### Solution:\n",
    "join()\tConverts the elements of an iterable into a string\n",
    "ljust()\tReturns a left justified version of the string\n",
    "lower()\tConverts a string into lower case\n",
    "lstrip()\tReturns a left trim version of the string\n",
    "\n",
    "# Q2. How do the string forms in Python 3.X vary in terms of operations?\n",
    "#### Solution:\n",
    "The built-in string class provides the ability to do complex variable substitutions and value formatting via the format() method described.\n",
    "\n",
    "# Q3. In 3.X, how do you put non-ASCII Unicode characters in a string?\n",
    "#### Solution:\n",
    "In order to use non-ASCII characters, Python requires explicit encoding and decoding of strings into Unicode. In IBM® SPSS® Modeler, Python scripts are assumed to be encoded in UTF-8, which is a standard Unicode encoding that supports non-ASCII characters.\n",
    "\n",
    "# Q4. In Python 3.X, what are the key differences between text-mode and binary-mode files?\n",
    "#### Solution:\n",
    "The major difference between these two is that a text file contains textual information in the form of alphabets, digits and special characters or symbols. On the other hand, a binary file contains bytes or a compiled version of a text file.\n",
    "\n",
    "# Q5. How can you interpret a Unicode text file containing text encoded in a different encoding than your platform&#39;s default?\n",
    "#### Solution:\n",
    "Unlike ASCII, however, Unicode provides a code for every character in nearly every language in the world. This task requires more than the 256 characters available in ASCII. ASCII is based on the 8-bit character set, while Unicode uses 16-bit characters as the default.\n",
    "\n",
    "# Q6. What is the best way to make a Unicode text file in a particular encoding format?\n",
    "#### Solution:\n",
    "encode method does, and the result of encoding a unicode string is a bytestring (a str type.) You should either use normal open() and encode the unicode yourself, or (usually a better idea) use codecs. open() and not encode the data yourself.\n",
    "\n",
    "# Q7. What qualifies ASCII text as a form of Unicode text?\n",
    "#### Solution:\n",
    "For backward compatibility, the first 128 Unicode characters point to ASCII characters. And since UTF-8 encodes each of those characters using 1-byte. ASCII is essentially just UTF-8, or we can say that ASCII is a subset of Unicode.\n",
    "\n",
    "# Q8. How much of an effect does the change in string types in Python 3.X have on your code?\n",
    "#### Solution:\n",
    "Python 3.0 uses the concepts of text and (binary) data instead of Unicode strings and 8-bit strings. All text is Unicode; however encoded Unicode\n"
   ]
  }
 ],
 "metadata": {
  "kernelspec": {
   "display_name": "Python 3",
   "language": "python",
   "name": "python3"
  },
  "language_info": {
   "codemirror_mode": {
    "name": "ipython",
    "version": 3
   },
   "file_extension": ".py",
   "mimetype": "text/x-python",
   "name": "python",
   "nbconvert_exporter": "python",
   "pygments_lexer": "ipython3",
   "version": "3.8.3"
  }
 },
 "nbformat": 4,
 "nbformat_minor": 5
}
