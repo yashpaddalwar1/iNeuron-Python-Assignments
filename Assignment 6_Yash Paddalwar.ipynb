{
 "cells": [
  {
   "cell_type": "markdown",
   "id": "7ba2b207",
   "metadata": {},
   "source": [
    "# *Author: Yash Ajit Paddalwar*\n",
    "# *Email ID: yash9096.p@gmail.com*"
   ]
  },
  {
   "cell_type": "markdown",
   "id": "b72f0eb9",
   "metadata": {},
   "source": [
    "## 1. What are escape characters, and how do you use them?\n",
    "Solution: To insert characters that are illegal in a string, use an escape character. An escape character is a backslash \\ followed by the character you want to insert."
   ]
  },
  {
   "cell_type": "markdown",
   "id": "5801cd2e",
   "metadata": {},
   "source": [
    "## 2. What do the escape characters n and t stand for?\n",
    "Solution:  \"\\t\" is a tab, \"\\n\" is a newline"
   ]
  },
  {
   "cell_type": "markdown",
   "id": "2a6c68c8",
   "metadata": {},
   "source": [
    "## 3. What is the way to include backslash characters in a string?\n",
    "Solution: Use the syntax \"\\\\\\\\\" within the string literal to represent a single backslash."
   ]
  },
  {
   "cell_type": "markdown",
   "id": "51b40cb6",
   "metadata": {},
   "source": [
    "## 4. The string &quot;Howl&#39;s Moving Castle&quot; is a correct value. Why isn&#39;t the single quote character in the word Howl&#39;s not escaped a problem?\n",
    "Solution: The single quote in Howl's is fine because you've used double quotes to mark the beginning and end of the string."
   ]
  },
  {
   "cell_type": "markdown",
   "id": "23e8ab7e",
   "metadata": {},
   "source": [
    "## 5. How do you write a string of newlines if you don&#39;t want to use the n character?\n",
    "Solution: use the keyword end='' in the print statement"
   ]
  },
  {
   "cell_type": "markdown",
   "id": "e9041249",
   "metadata": {},
   "source": [
    "## 6. What are the values of the given expressions?\n",
    "## &#39;Hello, world!&#39;[1]\n",
    "## &#39;Hello, world!&#39;[0:5]\n",
    "## &#39;Hello, world!&#39;[:5]\n",
    "## &#39;Hello, world!&#39;[3:]\n",
    "\n",
    "Solution: \n",
    "The values are:\n",
    "e\n",
    "\n",
    "Hello\n",
    "\n",
    "Hello\n",
    "\n",
    "lo, world!"
   ]
  },
  {
   "cell_type": "markdown",
   "id": "cf9e6b8a",
   "metadata": {},
   "source": [
    "## 7. What are the values of the following expressions?\n",
    "## &#39;Hello&#39;.upper()\n",
    "## &#39;Hello&#39;.upper().isupper()\n",
    "## &#39;Hello&#39;.upper().lower()\n",
    "\n",
    "Solution:\n",
    "the values are:\n",
    "HELLO\n",
    "True\n",
    "hello"
   ]
  },
  {
   "cell_type": "markdown",
   "id": "32158083",
   "metadata": {},
   "source": [
    "## 8. What are the values of the following expressions?\n",
    "## &#39;Remember, remember, the fifth of July.&#39;.split()\n",
    "## &#39;-&#39;.join(&#39;There can only one.&#39;.split())\n",
    "\n",
    "Solution:\n",
    "\n",
    "The values are:\n",
    "\n",
    "['Remember,', 'remember,', 'the', 'fifth', 'of', 'July.']\n",
    "\n",
    "'There-can-only-one.'\n"
   ]
  },
  {
   "cell_type": "markdown",
   "id": "3f20f286",
   "metadata": {},
   "source": [
    "## 9. What are the methods for right-justifying, left-justifying, and centering a string?\n",
    "Solution: rjust(), ljust(), center()\n",
    "\n",
    "These functions respectively right-justify, left-justify and center a string in a field of given width."
   ]
  },
  {
   "cell_type": "markdown",
   "id": "250aa5b9",
   "metadata": {},
   "source": [
    "## 10. What is the best way to remove whitespace characters from the start or end?\n",
    "Solution: The Python String strip() method is part of the built-in function available in python. The function will remove given characters from the start and end of the original string. This function is very helpful in removing the whitespaces at the start and end of the given string."
   ]
  }
 ],
 "metadata": {
  "kernelspec": {
   "display_name": "Python 3",
   "language": "python",
   "name": "python3"
  },
  "language_info": {
   "codemirror_mode": {
    "name": "ipython",
    "version": 3
   },
   "file_extension": ".py",
   "mimetype": "text/x-python",
   "name": "python",
   "nbconvert_exporter": "python",
   "pygments_lexer": "ipython3",
   "version": "3.8.3"
  }
 },
 "nbformat": 4,
 "nbformat_minor": 5
}
