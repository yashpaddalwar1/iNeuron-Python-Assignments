{
 "cells": [
  {
   "cell_type": "markdown",
   "id": "5da2c8a5",
   "metadata": {},
   "source": [
    "# *Author: Yash Ajit Paddalwar*\n",
    "# *Email ID: yash9096.p@gmail.com*"
   ]
  },
  {
   "cell_type": "markdown",
   "id": "5ba7215e",
   "metadata": {},
   "source": [
    "## 1. What does an empty dictionary&#39;s code look like?\n",
    "Solution: An empty dictionary can be created by just placing to curly braces{}."
   ]
  },
  {
   "cell_type": "markdown",
   "id": "3d7c0e10",
   "metadata": {},
   "source": [
    "## 2. What is the value of a dictionary value with the key &#39;foo&#39; and the value 42?\n",
    "Solution: The value is 42."
   ]
  },
  {
   "cell_type": "markdown",
   "id": "c381c088",
   "metadata": {},
   "source": [
    "## 3. What is the most significant distinction between a dictionary and a list?\n",
    "Solution: A list is an ordered sequence of objects, whereas dictionaries are unordered sets. However, the main difference is that items in dictionaries are accessed via keys and not via their position. Dictionaries don't support the sequence operation of the sequence data types like strings, tuples and lists."
   ]
  },
  {
   "cell_type": "markdown",
   "id": "e724f019",
   "metadata": {},
   "source": [
    "## 4. What happens if you try to access spam[&#39;foo&#39;] if spam is {&#39;bar&#39;: 100}?\n",
    "Solution: The dictionary does not contain any key named foo so it will throw an error."
   ]
  },
  {
   "cell_type": "markdown",
   "id": "70f61a8e",
   "metadata": {},
   "source": [
    "## 5. If a dictionary is stored in spam, what is the difference between the expressions &#39;cat&#39; in spam and &#39;cat&#39; in spam.keys()?\n",
    "Solution: There is no difference. The in operator checks whether a value exists as a key in the dictionary."
   ]
  },
  {
   "cell_type": "markdown",
   "id": "bfed0636",
   "metadata": {},
   "source": [
    "## 6. If a dictionary is stored in spam, what is the difference between the expressions &#39;cat&#39; in spam and &#39;cat&#39; in spam.values()?\n",
    "Solution: 'cat' in spam checks whether there is a 'cat' key in the dictionary, while 'cat' in spam.values() checks whether there is a value 'cat' for one of the keys in spam."
   ]
  },
  {
   "cell_type": "markdown",
   "id": "efd7e519",
   "metadata": {},
   "source": [
    "## 7. What is a shortcut for the following code? if &#39;color&#39; not in spam: spam[&#39;color&#39;] = &#39;black&#39;\n",
    "Solution: The shortcut is spam.setdefault('color', 'black')"
   ]
  },
  {
   "cell_type": "markdown",
   "id": "afba1477",
   "metadata": {},
   "source": [
    "## 8. How do you &quot;pretty print&quot; dictionary values using which module and function?\n",
    "Solution: This module also supports pretty-printing dictionary. Within the pprint module there is a function with the same name pprint() , which is the function used to pretty-print the given string or object."
   ]
  }
 ],
 "metadata": {
  "kernelspec": {
   "display_name": "Python 3",
   "language": "python",
   "name": "python3"
  },
  "language_info": {
   "codemirror_mode": {
    "name": "ipython",
    "version": 3
   },
   "file_extension": ".py",
   "mimetype": "text/x-python",
   "name": "python",
   "nbconvert_exporter": "python",
   "pygments_lexer": "ipython3",
   "version": "3.8.3"
  }
 },
 "nbformat": 4,
 "nbformat_minor": 5
}
