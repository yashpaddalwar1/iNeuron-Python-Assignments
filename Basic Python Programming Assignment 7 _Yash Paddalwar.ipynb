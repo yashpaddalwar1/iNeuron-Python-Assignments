{
 "cells": [
  {
   "cell_type": "markdown",
   "id": "9294bae1",
   "metadata": {},
   "source": [
    "# *Author: Yash Ajit Paddalwar*\n",
    "# *Email ID: yash9096.p@gmail.com*"
   ]
  },
  {
   "cell_type": "markdown",
   "id": "a03d7f8e",
   "metadata": {},
   "source": [
    "# 1. Write a Python Program to find sum of array?"
   ]
  },
  {
   "cell_type": "code",
   "execution_count": 4,
   "id": "55f26f24",
   "metadata": {},
   "outputs": [
    {
     "name": "stdout",
     "output_type": "stream",
     "text": [
      "Enter the values of array in space seperated format: 1 2 3 4\n",
      "The sum of the array is 10\n"
     ]
    }
   ],
   "source": [
    "def sum_of_array(arr):\n",
    "    return sum(arr)\n",
    "    \n",
    "inp = list(map(int,input(\"Enter the values of array in space seperated format: \").split()))\n",
    "print(\"The sum of the array is {}\".format(sum_of_array(inp)))"
   ]
  },
  {
   "cell_type": "markdown",
   "id": "191c7ab0",
   "metadata": {},
   "source": [
    "# 2. Write a Python Program to find largest element in an array?"
   ]
  },
  {
   "cell_type": "code",
   "execution_count": 7,
   "id": "2bb7bc36",
   "metadata": {},
   "outputs": [
    {
     "name": "stdout",
     "output_type": "stream",
     "text": [
      "Enter the values of array in space seperated format: 58454 584 5675989 656 05 0 -88884815\n",
      "The largest element of the array is 5675989\n"
     ]
    }
   ],
   "source": [
    "def largest_element_of_array(arr):\n",
    "    return max(arr)\n",
    "\n",
    "inp = list(map(int,input(\"Enter the values of array in space seperated format: \").split()))\n",
    "print(\"The largest element of the array is {}\".format(largest_element_of_array(inp)))"
   ]
  },
  {
   "cell_type": "markdown",
   "id": "47bba4ce",
   "metadata": {},
   "source": [
    "# 3. Write a Python Program for array rotation?"
   ]
  },
  {
   "cell_type": "code",
   "execution_count": 4,
   "id": "7aa7bd84",
   "metadata": {},
   "outputs": [
    {
     "name": "stdout",
     "output_type": "stream",
     "text": [
      "Enter the values of array in space seperated format: 1 2 3 4 5 6 7 8 9 10\n",
      "Enter which direction to rotate, left or right: right\n",
      "How many times to rotate: 11\n",
      "Rotating Right 11 times: [10, 1, 2, 3, 4, 5, 6, 7, 8, 9]\n"
     ]
    }
   ],
   "source": [
    "def left_rotation_of_array(arr):\n",
    "    times = int(input(\"How many times to rotate: \"))\n",
    "    print(\"Rotating Left {} times: \".format(times),end=\"\")\n",
    "    a = len(arr)\n",
    "    for m in range(times):\n",
    "        temp = arr[0]\n",
    "        for i in range(a-1):\n",
    "            arr[i] = arr[i+1]\n",
    "        arr[a-1] = temp\n",
    "    print(arr)\n",
    "\n",
    "def right_rotation_of_array(arr):\n",
    "    times = int(input(\"How many times to rotate: \"))\n",
    "    print(\"Rotating Right {} times: \".format(times),end=\"\")\n",
    "    a = len(arr)\n",
    "    for m in range(times):\n",
    "        temp = arr[a-1]\n",
    "        for i in range(a-1,0,-1):\n",
    "            arr[i] = arr[i-1]\n",
    "        arr[0] = temp\n",
    "    print(arr)\n",
    "    \n",
    "inp = list(map(int,input(\"Enter the values of array in space seperated format: \").split()))\n",
    "direction = input(\"Enter which direction to rotate, left or right: \")\n",
    "\n",
    "if direction.lower() == 'left':\n",
    "    left_rotation_of_array(inp)\n",
    "elif direction.lower() == 'right':\n",
    "    right_rotation_of_array(inp)\n",
    "else:\n",
    "    print(\"Enter Valid Direction....\")"
   ]
  },
  {
   "cell_type": "markdown",
   "id": "4ca2cdbc",
   "metadata": {},
   "source": [
    "# 4. Write a Python Program to Split the array and add the first part to the end?"
   ]
  },
  {
   "cell_type": "code",
   "execution_count": 5,
   "id": "5ce801d0",
   "metadata": {},
   "outputs": [
    {
     "name": "stdout",
     "output_type": "stream",
     "text": [
      "Enter the values of array in space seperated format: 1 2 3 4 5 6 7 8 9 10\n",
      "Enter the position: 5\n",
      "6 7 8 9 10 1 2 3 4 5 "
     ]
    }
   ],
   "source": [
    "def splitArr(arr, n, k): \n",
    "    for i in range(0, k): \n",
    "        x = arr[0]\n",
    "        for j in range(0, n-1):\n",
    "            arr[j] = arr[j + 1]\n",
    "          \n",
    "        arr[n-1] = x\n",
    "        \n",
    "arr = list(map(int,input(\"Enter the values of array in space seperated format: \").split()))\n",
    "n = len(arr)\n",
    "position = int(input(\"Enter the position: \"))\n",
    "  \n",
    "splitArr(arr, n, position)\n",
    "  \n",
    "for i in range(0, n): \n",
    "    print(arr[i], end = ' ')"
   ]
  },
  {
   "cell_type": "markdown",
   "id": "2c70e929",
   "metadata": {},
   "source": [
    "# 5. Write a Python Program to check if given array is Monotonic?"
   ]
  },
  {
   "cell_type": "code",
   "execution_count": 11,
   "id": "bf5ca096",
   "metadata": {},
   "outputs": [
    {
     "name": "stdout",
     "output_type": "stream",
     "text": [
      "Enter the values of array in space seperated format: 1 2 3 4 5 6 7 8 9 10\n",
      "The given Array is Monotonic....\n"
     ]
    }
   ],
   "source": [
    "def isMonotonic(A):\n",
    "  \n",
    "    return (all(A[i] <= A[i + 1] for i in range(len(A) - 1)) or\n",
    "            all(A[i] >= A[i + 1] for i in range(len(A) - 1)))\n",
    "\n",
    "A = list(map(int,input(\"Enter the values of array in space seperated format: \").split()))\n",
    "\n",
    "if isMonotonic(A):\n",
    "    print(\"The given Array is Monotonic....\")\n",
    "else:\n",
    "    print(\"The given Array is not Monotonic....\")"
   ]
  }
 ],
 "metadata": {
  "kernelspec": {
   "display_name": "Python 3",
   "language": "python",
   "name": "python3"
  },
  "language_info": {
   "codemirror_mode": {
    "name": "ipython",
    "version": 3
   },
   "file_extension": ".py",
   "mimetype": "text/x-python",
   "name": "python",
   "nbconvert_exporter": "python",
   "pygments_lexer": "ipython3",
   "version": "3.8.3"
  }
 },
 "nbformat": 4,
 "nbformat_minor": 5
}
